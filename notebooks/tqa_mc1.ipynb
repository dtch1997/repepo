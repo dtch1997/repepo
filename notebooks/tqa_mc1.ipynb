{
 "cells": [
  {
   "cell_type": "code",
   "execution_count": 4,
   "metadata": {},
   "outputs": [],
   "source": [
    "from repepo.core import benchmark\n",
    "from repepo.core import evaluate\n",
    "from repepo.core import pipeline\n",
    "from repepo.data import make_dataset, DatasetSpec\n",
    "from typing import Callable, Sequence\n",
    "\n",
    "from repepo.core.types import Dataset, Model, Tokenizer\n",
    "\n",
    "def make_tqa_mc1_random_benchmark(seed: int = 0) -> benchmark.Benchmark:\n",
    "\n",
    "    train_dataset: Dataset = make_dataset(\n",
    "        DatasetSpec(\n",
    "            name = \"truthfulqa\",\n",
    "            split = \":80%\",\n",
    "            seed = seed,\n",
    "        )\n",
    "    )\n",
    "\n",
    "    test_dataset: Dataset = make_dataset(\n",
    "        DatasetSpec(\n",
    "            name = \"truthfulqa\",\n",
    "            split = \"80:100%\",\n",
    "            seed = seed,\n",
    "        )\n",
    "    )\n",
    "    \n",
    "    return benchmark.Benchmark(\n",
    "        name=\"tqa_mc1\",\n",
    "        train_dataset=train_dataset,\n",
    "        test_dataset=test_dataset,\n",
    "        evaluators=[], # Evaluator defined elsewhere\n",
    "    )"
   ]
  },
  {
   "cell_type": "code",
   "execution_count": 5,
   "metadata": {},
   "outputs": [
    {
     "ename": "ValueError",
     "evalue": "Parse string 80:100% not recognized",
     "output_type": "error",
     "traceback": [
      "\u001b[0;31m---------------------------------------------------------------------------\u001b[0m",
      "\u001b[0;31mValueError\u001b[0m                                Traceback (most recent call last)",
      "\u001b[1;32m/home/daniel/repepo/notebooks/tqa_mc1.ipynb Cell 2\u001b[0m line \u001b[0;36m1\n\u001b[0;32m----> <a href='vscode-notebook-cell://ssh-remote%2Bairlab-2/home/daniel/repepo/notebooks/tqa_mc1.ipynb#W1sdnNjb2RlLXJlbW90ZQ%3D%3D?line=0'>1</a>\u001b[0m tqa_benchmark \u001b[39m=\u001b[39m make_tqa_mc1_random_benchmark()\n\u001b[1;32m      <a href='vscode-notebook-cell://ssh-remote%2Bairlab-2/home/daniel/repepo/notebooks/tqa_mc1.ipynb#W1sdnNjb2RlLXJlbW90ZQ%3D%3D?line=1'>2</a>\u001b[0m tqa_benchmark\u001b[39m.\u001b[39mtrain_dataset\n",
      "\u001b[1;32m/home/daniel/repepo/notebooks/tqa_mc1.ipynb Cell 2\u001b[0m line \u001b[0;36m1\n\u001b[1;32m      <a href='vscode-notebook-cell://ssh-remote%2Bairlab-2/home/daniel/repepo/notebooks/tqa_mc1.ipynb#W1sdnNjb2RlLXJlbW90ZQ%3D%3D?line=8'>9</a>\u001b[0m \u001b[39mdef\u001b[39;00m \u001b[39mmake_tqa_mc1_random_benchmark\u001b[39m(seed: \u001b[39mint\u001b[39m \u001b[39m=\u001b[39m \u001b[39m0\u001b[39m) \u001b[39m-\u001b[39m\u001b[39m>\u001b[39m benchmark\u001b[39m.\u001b[39mBenchmark:\n\u001b[1;32m     <a href='vscode-notebook-cell://ssh-remote%2Bairlab-2/home/daniel/repepo/notebooks/tqa_mc1.ipynb#W1sdnNjb2RlLXJlbW90ZQ%3D%3D?line=10'>11</a>\u001b[0m     train_dataset: Dataset \u001b[39m=\u001b[39m make_dataset(\n\u001b[1;32m     <a href='vscode-notebook-cell://ssh-remote%2Bairlab-2/home/daniel/repepo/notebooks/tqa_mc1.ipynb#W1sdnNjb2RlLXJlbW90ZQ%3D%3D?line=11'>12</a>\u001b[0m         DatasetSpec(\n\u001b[1;32m     <a href='vscode-notebook-cell://ssh-remote%2Bairlab-2/home/daniel/repepo/notebooks/tqa_mc1.ipynb#W1sdnNjb2RlLXJlbW90ZQ%3D%3D?line=12'>13</a>\u001b[0m             name \u001b[39m=\u001b[39m \u001b[39m\"\u001b[39m\u001b[39mtruthfulqa\u001b[39m\u001b[39m\"\u001b[39m,\n\u001b[0;32m   (...)\u001b[0m\n\u001b[1;32m     <a href='vscode-notebook-cell://ssh-remote%2Bairlab-2/home/daniel/repepo/notebooks/tqa_mc1.ipynb#W1sdnNjb2RlLXJlbW90ZQ%3D%3D?line=15'>16</a>\u001b[0m         )\n\u001b[1;32m     <a href='vscode-notebook-cell://ssh-remote%2Bairlab-2/home/daniel/repepo/notebooks/tqa_mc1.ipynb#W1sdnNjb2RlLXJlbW90ZQ%3D%3D?line=16'>17</a>\u001b[0m     )\n\u001b[0;32m---> <a href='vscode-notebook-cell://ssh-remote%2Bairlab-2/home/daniel/repepo/notebooks/tqa_mc1.ipynb#W1sdnNjb2RlLXJlbW90ZQ%3D%3D?line=18'>19</a>\u001b[0m     test_dataset: Dataset \u001b[39m=\u001b[39m make_dataset(\n\u001b[1;32m     <a href='vscode-notebook-cell://ssh-remote%2Bairlab-2/home/daniel/repepo/notebooks/tqa_mc1.ipynb#W1sdnNjb2RlLXJlbW90ZQ%3D%3D?line=19'>20</a>\u001b[0m         DatasetSpec(\n\u001b[1;32m     <a href='vscode-notebook-cell://ssh-remote%2Bairlab-2/home/daniel/repepo/notebooks/tqa_mc1.ipynb#W1sdnNjb2RlLXJlbW90ZQ%3D%3D?line=20'>21</a>\u001b[0m             name \u001b[39m=\u001b[39;49m \u001b[39m\"\u001b[39;49m\u001b[39mtruthfulqa\u001b[39;49m\u001b[39m\"\u001b[39;49m,\n\u001b[1;32m     <a href='vscode-notebook-cell://ssh-remote%2Bairlab-2/home/daniel/repepo/notebooks/tqa_mc1.ipynb#W1sdnNjb2RlLXJlbW90ZQ%3D%3D?line=21'>22</a>\u001b[0m             split \u001b[39m=\u001b[39;49m \u001b[39m\"\u001b[39;49m\u001b[39m80:100\u001b[39;49m\u001b[39m%\u001b[39;49m\u001b[39m\"\u001b[39;49m,\n\u001b[1;32m     <a href='vscode-notebook-cell://ssh-remote%2Bairlab-2/home/daniel/repepo/notebooks/tqa_mc1.ipynb#W1sdnNjb2RlLXJlbW90ZQ%3D%3D?line=22'>23</a>\u001b[0m             seed \u001b[39m=\u001b[39;49m seed,\n\u001b[1;32m     <a href='vscode-notebook-cell://ssh-remote%2Bairlab-2/home/daniel/repepo/notebooks/tqa_mc1.ipynb#W1sdnNjb2RlLXJlbW90ZQ%3D%3D?line=23'>24</a>\u001b[0m         )\n\u001b[1;32m     <a href='vscode-notebook-cell://ssh-remote%2Bairlab-2/home/daniel/repepo/notebooks/tqa_mc1.ipynb#W1sdnNjb2RlLXJlbW90ZQ%3D%3D?line=24'>25</a>\u001b[0m     )\n\u001b[1;32m     <a href='vscode-notebook-cell://ssh-remote%2Bairlab-2/home/daniel/repepo/notebooks/tqa_mc1.ipynb#W1sdnNjb2RlLXJlbW90ZQ%3D%3D?line=26'>27</a>\u001b[0m     \u001b[39mreturn\u001b[39;00m benchmark\u001b[39m.\u001b[39mBenchmark(\n\u001b[1;32m     <a href='vscode-notebook-cell://ssh-remote%2Bairlab-2/home/daniel/repepo/notebooks/tqa_mc1.ipynb#W1sdnNjb2RlLXJlbW90ZQ%3D%3D?line=27'>28</a>\u001b[0m         name\u001b[39m=\u001b[39m\u001b[39m\"\u001b[39m\u001b[39mtqa_mc1\u001b[39m\u001b[39m\"\u001b[39m,\n\u001b[1;32m     <a href='vscode-notebook-cell://ssh-remote%2Bairlab-2/home/daniel/repepo/notebooks/tqa_mc1.ipynb#W1sdnNjb2RlLXJlbW90ZQ%3D%3D?line=28'>29</a>\u001b[0m         train_dataset\u001b[39m=\u001b[39mtrain_dataset,\n\u001b[1;32m     <a href='vscode-notebook-cell://ssh-remote%2Bairlab-2/home/daniel/repepo/notebooks/tqa_mc1.ipynb#W1sdnNjb2RlLXJlbW90ZQ%3D%3D?line=29'>30</a>\u001b[0m         test_dataset\u001b[39m=\u001b[39mtest_dataset,\n\u001b[1;32m     <a href='vscode-notebook-cell://ssh-remote%2Bairlab-2/home/daniel/repepo/notebooks/tqa_mc1.ipynb#W1sdnNjb2RlLXJlbW90ZQ%3D%3D?line=30'>31</a>\u001b[0m         evaluators\u001b[39m=\u001b[39m[], \u001b[39m# Evaluator defined elsewhere\u001b[39;00m\n\u001b[1;32m     <a href='vscode-notebook-cell://ssh-remote%2Bairlab-2/home/daniel/repepo/notebooks/tqa_mc1.ipynb#W1sdnNjb2RlLXJlbW90ZQ%3D%3D?line=31'>32</a>\u001b[0m     )\n",
      "File \u001b[0;32m~/repepo/repepo/data/__init__.py:76\u001b[0m, in \u001b[0;36mmake_dataset\u001b[0;34m(spec)\u001b[0m\n\u001b[1;32m     74\u001b[0m dataset \u001b[39m=\u001b[39m get_dataset(spec\u001b[39m.\u001b[39mname)\n\u001b[1;32m     75\u001b[0m random\u001b[39m.\u001b[39mRandom(spec\u001b[39m.\u001b[39mseed)\u001b[39m.\u001b[39mshuffle(dataset)  \u001b[39m# in-place shuffle\u001b[39;00m\n\u001b[0;32m---> 76\u001b[0m split \u001b[39m=\u001b[39m parse_split(spec\u001b[39m.\u001b[39;49msplit, \u001b[39m0\u001b[39;49m, \u001b[39mlen\u001b[39;49m(dataset))\n\u001b[1;32m     77\u001b[0m \u001b[39mreturn\u001b[39;00m dataset[split]\n",
      "File \u001b[0;32m~/repepo/repepo/data/__init__.py:58\u001b[0m, in \u001b[0;36mparse_split\u001b[0;34m(split_string, start_index, end_index)\u001b[0m\n\u001b[1;32m     54\u001b[0m         \u001b[39mraise\u001b[39;00m \u001b[39mValueError\u001b[39;00m(e)\n\u001b[1;32m     56\u001b[0m \u001b[39melse\u001b[39;00m:\n\u001b[1;32m     57\u001b[0m     \u001b[39m# Invalid format, return None\u001b[39;00m\n\u001b[0;32m---> 58\u001b[0m     \u001b[39mraise\u001b[39;00m \u001b[39mValueError\u001b[39;00m(\u001b[39mf\u001b[39m\u001b[39m\"\u001b[39m\u001b[39mParse string \u001b[39m\u001b[39m{\u001b[39;00msplit_string\u001b[39m}\u001b[39;00m\u001b[39m not recognized\u001b[39m\u001b[39m\"\u001b[39m)\n",
      "\u001b[0;31mValueError\u001b[0m: Parse string 80:100% not recognized"
     ]
    }
   ],
   "source": [
    "tqa_benchmark = make_tqa_mc1_random_benchmark()\n",
    "tqa_benchmark.train_dataset"
   ]
  }
 ],
 "metadata": {
  "kernelspec": {
   "display_name": ".venv",
   "language": "python",
   "name": "python3"
  },
  "language_info": {
   "codemirror_mode": {
    "name": "ipython",
    "version": 3
   },
   "file_extension": ".py",
   "mimetype": "text/x-python",
   "name": "python",
   "nbconvert_exporter": "python",
   "pygments_lexer": "ipython3",
   "version": "3.10.13"
  }
 },
 "nbformat": 4,
 "nbformat_minor": 2
}
