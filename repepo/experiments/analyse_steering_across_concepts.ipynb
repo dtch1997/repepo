{
 "cells": [
  {
   "cell_type": "code",
   "execution_count": null,
   "metadata": {},
   "outputs": [],
   "source": [
    "%env WORK_DIR = /home/daniel/ml_workspace/repepo/experiments"
   ]
  },
  {
   "cell_type": "code",
   "execution_count": null,
   "metadata": {},
   "outputs": [],
   "source": [
    "import itertools\n",
    "from repepo.steering.utils.helpers import SteeringConfig, EmptyTorchCUDACache\n",
    "from repepo.steering.sweeps.constants import ALL_LANGUAGES\n",
    "\n",
    "layer = 13\n",
    "multipliers = [-1, 0, 1] \n",
    "\n",
    "datasets = [\n",
    "    \"power-seeking-inclination\",\n",
    "    \"anti-immigration\",\n",
    "    \"openness\",\n",
    "    \"conscientiousness\"    \n",
    "]\n",
    "\n",
    "\n",
    "def iter_config():\n",
    "    for train_dataset, test_dataset, multiplier in itertools.product(datasets, datasets, multipliers):\n",
    "        yield SteeringConfig(\n",
    "            train_dataset=train_dataset,\n",
    "            train_split=\"0%:+10\",\n",
    "            formatter=\"llama-chat-formatter\",\n",
    "            layer=layer,\n",
    "            multiplier=multiplier,\n",
    "            test_dataset=test_dataset,\n",
    "            test_split=\"40%:+10\",\n",
    "            test_completion_template=\"{prompt} My answer is: {response}\",\n",
    "            patch_generation_tokens_only=True,\n",
    "            skip_first_n_generation_tokens=1,\n",
    "        )"
   ]
  },
  {
   "cell_type": "code",
   "execution_count": null,
   "metadata": {},
   "outputs": [],
   "source": [
    "from repepo.steering.run_sweep import run_sweep, load_sweep_results\n",
    "\n",
    "RUN = True\n",
    "configs = list(iter_config())\n",
    "\n",
    "if RUN:\n",
    "    run_sweep(configs)\n",
    "\n",
    "results = load_sweep_results(configs)"
   ]
  },
  {
   "cell_type": "code",
   "execution_count": null,
   "metadata": {},
   "outputs": [],
   "source": [
    "# Aggregate the data into a dataframe\n",
    "\n",
    "import pandas as pd\n",
    "rows = []\n",
    "for config, result in results:\n",
    "    row = {\n",
    "        \"test_positive_example\": result.predictions[0].positive_output_prob.text,\n",
    "        \"test_negative_example\": result.predictions[0].negative_output_prob.text,\n",
    "        \"train_dataset\": config.train_dataset,\n",
    "        \"test_dataset\": config.test_dataset,\n",
    "        \"layer\": config.layer,\n",
    "        \"multiplier\": config.multiplier,\n",
    "        \"mean_logit_diff\": result.metrics['mean_logit_diff'],\n",
    "    }\n",
    "    rows.append(row)\n",
    "\n",
    "df = pd.DataFrame(rows)\n",
    "print(len(df))\n",
    "df.head()"
   ]
  },
  {
   "cell_type": "code",
   "execution_count": null,
   "metadata": {},
   "outputs": [],
   "source": [
    "# We investigate how well a single steering vector works across different test splits\n",
    "data_df = df.copy()\n",
    "data_df = data_df[data_df.train_dataset == \"power-seeking-inclination\"]\n",
    "\n",
    "# Plot the mean logit diff against multiplier, with hue by test split\n",
    "# Plot them all on the same graph, with label\n",
    "import seaborn as sns\n",
    "import matplotlib.pyplot as plt\n",
    "sns.set_theme(style=\"whitegrid\")\n",
    "plt.figure()\n",
    "ax = sns.lineplot(data=data_df, x=\"multiplier\", y=\"mean_logit_diff\", hue=\"test_dataset\")\n",
    "ax.set_title(\"Transferring a steering vector to different contexts\")\n"
   ]
  },
  {
   "cell_type": "code",
   "execution_count": null,
   "metadata": {},
   "outputs": [],
   "source": [
    "# We investigate how well different steering vectors work on the same test dataset\n",
    "data_df = df.copy()\n",
    "data_df = data_df[data_df.test_dataset == \"power-seeking-inclination\"]\n",
    "\n",
    "# Plot the mean logit diff against multiplier, with hue by test split\n",
    "# Plot them all on the same graph, with label\n",
    "import seaborn as sns\n",
    "import matplotlib.pyplot as plt\n",
    "sns.set_theme(style=\"whitegrid\")\n",
    "plt.figure()\n",
    "ax = sns.lineplot(data=data_df, x=\"multiplier\", y=\"mean_logit_diff\", hue=\"train_dataset\")\n",
    "ax.set_title(\"Transferring steering vectors from different contexts to the same test split\")\n"
   ]
  },
  {
   "cell_type": "code",
   "execution_count": null,
   "metadata": {},
   "outputs": [],
   "source": [
    "# Crudely estimate steering efficiency as (mean logit diff at 1) - (mean logit diff at -1)\n",
    "data_df = df.copy()\n",
    "group_df = data_df.groupby([\"train_dataset\", \"test_dataset\", \"layer\"])\n",
    "\n",
    "def compute_signed_difference(row):\n",
    "    logit_diff_at_plus_1 = row[row.multiplier == 1][\"mean_logit_diff\"].item()\n",
    "    logit_diff_at_minus_1 = row[row.multiplier == -1][\"mean_logit_diff\"].item()\n",
    "    return pd.Series({'steering_efficiency': logit_diff_at_plus_1 - logit_diff_at_minus_1})\n",
    "\n",
    "data_df = group_df.apply(compute_signed_difference)\n",
    "# Merge back in the positive example and negative example\n",
    "data_df = data_df.reset_index()\n",
    "metadata_df = df[[\"train_dataset\", \"test_dataset\", \"layer\", \"test_positive_example\", \"test_negative_example\"]].drop_duplicates()\n",
    "data_df = data_df.merge(metadata_df, on=[\"train_dataset\", \"test_dataset\", \"layer\"])\n",
    "\n",
    "print(len(data_df))\n",
    "data_df.head()"
   ]
  },
  {
   "cell_type": "code",
   "execution_count": null,
   "metadata": {},
   "outputs": [],
   "source": [
    "\n",
    "# Construct a 3x3 matrix of steering efficiency,\n",
    "# where X is train split, Y is test split, and value is steering efficiency\n",
    "import seaborn as sns\n",
    "import matplotlib.pyplot as plt\n",
    "sns.set_theme(style=\"whitegrid\")\n",
    "plt.figure()\n",
    "plot_df = data_df.pivot(index=\"train_dataset\", columns=\"test_dataset\", values=\"steering_efficiency\")\n",
    "ax = sns.heatmap(plot_df, annot=True, cmap=\"YlGnBu\")\n",
    "ax.set_title(\"Steering efficiency when transferring between different contexts\")"
   ]
  },
  {
   "cell_type": "code",
   "execution_count": null,
   "metadata": {},
   "outputs": [],
   "source": [
    "# Compare the steering vectors from different contexts. \n",
    "\n",
    "from repepo.steering.utils.helpers import load_activation\n",
    "from repepo.steering.get_aggregator import get_aggregator\n",
    "from steering_vectors import SteeringVector, LayerType\n",
    "import torch\n",
    "from typing import cast\n",
    "\n",
    "def iter_train_configs():\n",
    "    for train_dataset in datasets:\n",
    "        yield SteeringConfig(\n",
    "            train_dataset=train_dataset,\n",
    "            train_split=\"0%:+10\",\n",
    "            formatter=\"llama-chat-formatter\",\n",
    "            layer=layer,\n",
    "            multiplier=0,\n",
    "            test_dataset=train_dataset,\n",
    "            test_split=\"40%:+10\",\n",
    "            test_completion_template=\"{prompt} My answer is: {response}\",\n",
    "            patch_generation_tokens_only=True,\n",
    "            skip_first_n_generation_tokens=1,\n",
    "        )\n",
    "\n",
    "steering_vectors = []\n",
    "for config in list(iter_train_configs()):\n",
    "    print(config)\n",
    "    pos_acts, neg_acts = load_activation(config.train_hash)\n",
    "    aggregator = get_aggregator(config.aggregator)\n",
    "    with EmptyTorchCUDACache():\n",
    "        direction_vec = aggregator(torch.concat(pos_acts), torch.concat(neg_acts))\n",
    "        steering_vector = SteeringVector(\n",
    "            layer_activations={config.layer: direction_vec},\n",
    "            layer_type=cast(LayerType, config.layer_type),\n",
    "        )\n",
    "\n",
    "    steering_vectors.append((config, steering_vector))"
   ]
  },
  {
   "cell_type": "code",
   "execution_count": null,
   "metadata": {},
   "outputs": [],
   "source": [
    "# Compute the pairwise cosine similarity between steering vectors\n",
    "from sklearn.metrics.pairwise import cosine_similarity\n",
    "import numpy as np\n",
    "cosine_similarities = np.zeros((len(steering_vectors), len(steering_vectors)))\n",
    "for i, (config_i, steering_vector_i) in enumerate(steering_vectors):\n",
    "    for j, (config_j, steering_vector_j) in enumerate(steering_vectors):\n",
    "        cosine_similarities[i, j] = cosine_similarity(\n",
    "            steering_vector_i.layer_activations[config_i.layer].detach().cpu().numpy().reshape(1, -1),\n",
    "            steering_vector_j.layer_activations[config_j.layer].detach().cpu().numpy().reshape(1, -1)\n",
    "        )\n",
    "\n",
    "# Plot heatmap of cosine similarities\n",
    "import seaborn as sns\n",
    "import matplotlib.pyplot as plt\n",
    "sns.set_theme(style=\"whitegrid\")\n",
    "plt.figure()\n",
    "ax = sns.heatmap(cosine_similarities, annot=True, cmap=\"YlGnBu\")\n",
    "# Use train_dataset as x and y labels\n",
    "labels = [config.train_dataset for config, _ in steering_vectors]\n",
    "ax.set_xticklabels(labels, rotation=90)\n",
    "ax.set_yticklabels(labels, rotation=0)\n",
    "ax.set_title(\"Cosine similarity between steering vectors from different contexts\")"
   ]
  },
  {
   "cell_type": "code",
   "execution_count": null,
   "metadata": {},
   "outputs": [],
   "source": [
    "# Compute norms of all three vectors and visualize in bar plot\n",
    "import seaborn as sns\n",
    "import matplotlib.pyplot as plt\n",
    "sns.set_theme(style=\"whitegrid\")\n",
    "plt.figure()\n",
    "norms = [torch.norm(steering_vector.layer_activations[config.layer]).item() for config, steering_vector in steering_vectors]\n",
    "ax = sns.barplot(x=labels, y=norms)\n",
    "ax.set_title(\"Norm of steering vectors from different contexts\")\n",
    "ax.set_xticklabels(labels, rotation=90)"
   ]
  }
 ],
 "metadata": {
  "kernelspec": {
   "display_name": ".venv",
   "language": "python",
   "name": "python3"
  },
  "language_info": {
   "codemirror_mode": {
    "name": "ipython",
    "version": 3
   },
   "file_extension": ".py",
   "mimetype": "text/x-python",
   "name": "python",
   "nbconvert_exporter": "python",
   "pygments_lexer": "ipython3",
   "version": "3.10.13"
  }
 },
 "nbformat": 4,
 "nbformat_minor": 2
}
