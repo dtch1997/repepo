{
 "cells": [
  {
   "cell_type": "markdown",
   "metadata": {},
   "source": [
    "Define what results we want to load"
   ]
  },
  {
   "cell_type": "code",
   "execution_count": null,
   "metadata": {},
   "outputs": [],
   "source": [
    "%env WORK_DIR = /home/daniel/ml_workspace/repepo/experiments"
   ]
  },
  {
   "cell_type": "code",
   "execution_count": null,
   "metadata": {},
   "outputs": [],
   "source": [
    "from repepo.steering.sweeps.evaluate_steering_efficiency_across_datasets import iter_configs\n",
    "from repepo.steering.utils.helpers import load_eval_result, get_eval_result_path, get_experiment_path\n",
    "\n",
    "configs_and_results = []\n",
    "for config in iter_configs():\n",
    "    try:\n",
    "        eval_result = load_eval_result(config.eval_hash)\n",
    "        configs_and_results.append((config, eval_result))\n",
    "    except: \n",
    "        print(config.eval_hash)\n",
    "    \n"
   ]
  },
  {
   "cell_type": "markdown",
   "metadata": {},
   "source": [
    "Pedagogical example of how to compute steering efficiency"
   ]
  },
  {
   "cell_type": "code",
   "execution_count": null,
   "metadata": {},
   "outputs": [],
   "source": [
    "#for config, result in configs_and_results:\n",
    "#    print(f\"{config.train_dataset}: \\t logit_diff = {result.metrics['mean_logit_diff']:.2f} +/- {result.metrics['std_logit_diff']:.2f}\")\n",
    "\n",
    "# Construct a dataframe\n",
    "import pandas as pd\n",
    "df = pd.DataFrame([{\n",
    "    'train_dataset': config.train_dataset,\n",
    "    'layer': config.layer,\n",
    "    'multiplier': config.multiplier,\n",
    "    'mean_logit_diff': result.metrics['mean_logit_diff'],\n",
    "    'std_logit_diff': result.metrics['std_logit_diff'],\n",
    "    'mean_pos_prob': result.metrics['mean_pos_prob'],\n",
    "    'std_pos_prob': result.metrics['std_pos_prob'],\n",
    "} for config, result in configs_and_results])\n",
    "\n",
    "df.head()"
   ]
  },
  {
   "cell_type": "code",
   "execution_count": null,
   "metadata": {},
   "outputs": [],
   "source": [
    "import numpy as np\n",
    "import matplotlib.pyplot as plt\n",
    "\n",
    "def plot_steering_efficiency(df, dataset, layer):\n",
    "    data_df = df[(df.train_dataset == dataset) & (df.layer == layer)]\n",
    "\n",
    "    multipliers = data_df.multiplier.unique()\n",
    "    multipliers.sort()\n",
    "    layers = data_df.layer.unique()\n",
    "    layers.sort()\n",
    "\n",
    "    slope, intercept = np.polyfit(multipliers, data_df.mean_logit_diff, 1)\n",
    "    plt.figure(figsize=(10, 6))\n",
    "    for layer in layers:\n",
    "        layer_df = data_df[data_df.layer == layer]\n",
    "        plt.errorbar(layer_df.multiplier, layer_df.mean_logit_diff, yerr=layer_df.std_logit_diff, fmt='o', label=layer)\n",
    "        plt.plot(multipliers, slope * multipliers + intercept, label='Linear fit')\n",
    "    plt.xlabel('Steering multiplier')\n",
    "    plt.ylabel('Mean logit difference')\n",
    "    plt.title(f'Steering efficiency for {dataset}')\n",
    "    plt.legend()\n",
    "\n",
    "datasets = df.train_dataset.unique()\n",
    "for dataset in datasets:\n",
    "    layer = 13\n",
    "    plot_steering_efficiency(df, dataset, layer)\n",
    "    plt.show()"
   ]
  },
  {
   "cell_type": "markdown",
   "metadata": {},
   "source": [
    "Compute the steering efficiency"
   ]
  },
  {
   "cell_type": "code",
   "execution_count": null,
   "metadata": {},
   "outputs": [],
   "source": [
    "\n",
    "# Group results by (train_dataset, layer)\n",
    "grouped = df.groupby(['train_dataset', 'layer'])\n",
    "# Fit a linear model of (mean logit diff) vs (multiplier)\n",
    "import numpy as np\n",
    "\n",
    "def compute_steering_efficiency(row):\n",
    "    x = row.multiplier\n",
    "    y = row.mean_logit_diff\n",
    "    (slope, _), res, rank, sv, rcond = np.polyfit(x, y, 1, full=True)\n",
    "    return pd.Series({'steering_efficiency': slope, 'residuals': np.sqrt(res).item()})\n",
    "\n",
    "steering_efficiency_df = grouped.apply(compute_steering_efficiency)\n",
    "# merge back into original df\n",
    "df = df.merge(steering_efficiency_df, left_on=['train_dataset', 'layer'], right_index=True)\n",
    "df.head()"
   ]
  },
  {
   "cell_type": "code",
   "execution_count": null,
   "metadata": {},
   "outputs": [],
   "source": [
    "# Select only dataset name, layer, and steering efficiency\n",
    "data_df = df[['train_dataset', 'layer', 'steering_efficiency']]\n",
    "data_df = data_df.drop_duplicates()\n",
    "print(len(data_df))\n",
    "\n",
    "# Bar plot of steering efficiency\n",
    "import seaborn as sns\n",
    "import matplotlib.pyplot as plt\n",
    "sns.set_theme(style=\"whitegrid\")\n",
    "plot = sns.catplot(\n",
    "    data=data_df, kind=\"bar\",\n",
    "    y=\"train_dataset\", x=\"steering_efficiency\", hue=\"train_dataset\",\n",
    "    palette=\"dark\", alpha=.6, height=6\n",
    ")\n",
    "plt.title('Steering efficiency across datasets')\n"
   ]
  },
  {
   "cell_type": "code",
   "execution_count": null,
   "metadata": {},
   "outputs": [],
   "source": [
    "# Bar plot of residuals\n",
    "residuals_df = df[['train_dataset', 'layer', 'residuals']]\n",
    "residuals_df = residuals_df.drop_duplicates()\n",
    "plot = sns.catplot(\n",
    "    data=residuals_df, kind=\"bar\",\n",
    "    y=\"train_dataset\", x=\"residuals\", hue=\"train_dataset\",\n",
    "    palette=\"dark\", alpha=.6, height=6\n",
    ")\n",
    "plt.title('Residuals error of linear fit of steering efficiency')"
   ]
  },
  {
   "cell_type": "code",
   "execution_count": null,
   "metadata": {},
   "outputs": [],
   "source": [
    "# Plot the steering efficiency divided by residuals\n",
    "efficiency_div_residuals = data_df.merge(residuals_df, on=['train_dataset', 'layer'])\n",
    "efficiency_div_residuals['efficiency_div_residuals'] = efficiency_div_residuals.steering_efficiency / efficiency_div_residuals.residuals\n",
    "efficiency_div_residuals = efficiency_div_residuals.drop(columns=['steering_efficiency', 'residuals'])\n",
    "efficiency_div_residuals = efficiency_div_residuals.drop_duplicates()\n",
    "plot = sns.catplot(\n",
    "    data=efficiency_div_residuals, kind=\"bar\",\n",
    "    y=\"train_dataset\", x=\"efficiency_div_residuals\", hue=\"train_dataset\",\n",
    "    palette=\"dark\", alpha=.6, height=6\n",
    ")"
   ]
  },
  {
   "cell_type": "code",
   "execution_count": null,
   "metadata": {},
   "outputs": [],
   "source": [
    "# # Visualize self-replication, which had highest efficiency divided by residuals\n",
    "# self_replication_df = df[df.train_dataset == 'self-replication']\n",
    "# self_replication_df = self_replication_df[['layer', 'multiplier', 'mean_logit_diff', 'std_logit_diff']]\n",
    "# self_replication_df = self_replication_df.drop_duplicates()\n",
    "# multipliers = self_replication_df.multiplier.unique()\n",
    "# multipliers.sort()\n",
    "# slope, intercept = np.polyfit(multipliers, self_replication_df.mean_logit_diff, 1)\n",
    "# plt.figure()\n",
    "# plt.title(\"Self-replication\")\n",
    "# plt.errorbar(self_replication_df.multiplier, self_replication_df.mean_logit_diff, yerr=self_replication_df.std_logit_diff, fmt='o', label='Self-replication')"
   ]
  }
 ],
 "metadata": {
  "kernelspec": {
   "display_name": ".venv",
   "language": "python",
   "name": "python3"
  },
  "language_info": {
   "codemirror_mode": {
    "name": "ipython",
    "version": 3
   },
   "file_extension": ".py",
   "mimetype": "text/x-python",
   "name": "python",
   "nbconvert_exporter": "python",
   "pygments_lexer": "ipython3",
   "version": "3.10.13"
  }
 },
 "nbformat": 4,
 "nbformat_minor": 2
}
