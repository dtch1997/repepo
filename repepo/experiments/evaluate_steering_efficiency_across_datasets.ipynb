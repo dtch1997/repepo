{
 "cells": [
  {
   "cell_type": "markdown",
   "metadata": {},
   "source": [
    "Define what results we want to load"
   ]
  },
  {
   "cell_type": "code",
   "execution_count": null,
   "metadata": {},
   "outputs": [],
   "source": [
    "%env WORK_DIR = /home/daniel/ml_workspace/repepo/experiments"
   ]
  },
  {
   "cell_type": "code",
   "execution_count": null,
   "metadata": {},
   "outputs": [],
   "source": [
    "from repepo.steering.sweeps.evaluate_steering_efficiency_across_datasets import iter_configs\n",
    "from repepo.steering.run_sweep import run_sweep, load_sweep_results\n",
    "\n",
    "RUN = False\n",
    "configs = list(iter_configs())\n",
    "\n",
    "if RUN:\n",
    "    run_sweep(configs)\n",
    "\n",
    "results = load_sweep_results(configs)\n",
    "    \n"
   ]
  },
  {
   "cell_type": "code",
   "execution_count": null,
   "metadata": {},
   "outputs": [],
   "source": [
    "from repepo.steering.plots.utils import make_results_df, get_config_fields\n",
    "\n",
    "df = make_results_df(results)\n",
    "print(len(df))\n",
    "df.head()"
   ]
  },
  {
   "cell_type": "code",
   "execution_count": null,
   "metadata": {},
   "outputs": [],
   "source": [
    "from repepo.utils.stats import bernoulli_js_dist\n",
    "\n",
    "# Compute sample-wise Jenson-Shannon divergence from different multipliers\n",
    "\n",
    "config_fields = get_config_fields()\n",
    "fields = config_fields + [\"test_positive_example\", \"test_negative_example\"]\n",
    "fields.remove(\"multiplier\")\n",
    "\n",
    "def compute_js_div(group):\n",
    "    \"\"\" \n",
    "    Within a group, we have the exact same SV and eval example, but different multipliers. \n",
    "    So we should compute the JS divergence to the zero multiplier\n",
    "    and store it in the group.\n",
    "    \"\"\"    \n",
    "    zero_multiplier = group[group.multiplier == 0].pos_prob.values[0]\n",
    "    js_div = group.apply(lambda x: bernoulli_js_dist(zero_multiplier, x.pos_prob), axis=1)\n",
    "    return js_div\n",
    "\n",
    "grouped = df.groupby(fields, as_index = False)[['multiplier', 'pos_prob']]\n",
    "df['js_div'] = grouped.apply(compute_js_div).reset_index(level=0, drop=True)\n",
    "df.head()"
   ]
  },
  {
   "cell_type": "code",
   "execution_count": null,
   "metadata": {},
   "outputs": [],
   "source": [
    "small_df = df[df.train_dataset == \"power-seeking-inclination\"]\n",
    "print(len(small_df))\n",
    "small_df.head()"
   ]
  },
  {
   "cell_type": "code",
   "execution_count": null,
   "metadata": {},
   "outputs": [],
   "source": [
    "k = 10\n",
    "\n",
    "# Filter down to k randomly-chosen test_positive_example\n",
    "examples_to_keep = small_df.test_positive_example[:k]\n",
    "small_df = small_df[small_df.test_positive_example.isin(examples_to_keep)]\n",
    "# Convert test_positive_example to an index\n",
    "small_df['example_index'] = small_df.test_positive_example.astype('category').cat.codes.astype(str)\n",
    "print(len(small_df))\n",
    "\n",
    "# Plot the JS divergence for each test_positive_example\n",
    "import seaborn as sns\n",
    "import matplotlib.pyplot as plt\n",
    "\n",
    "sns.lineplot(data=small_df, x='multiplier', y='js_div', hue='example_index')"
   ]
  },
  {
   "cell_type": "code",
   "execution_count": null,
   "metadata": {},
   "outputs": [],
   "source": [
    "# Plot Js div vs mean pos prob at zero\n",
    "pos_prob_at_zero = small_df[small_df.multiplier == 0][['example_index', 'pos_prob']]\n",
    "print(len(pos_prob_at_zero))\n",
    "# merge\n",
    "small_df = small_df.merge(pos_prob_at_zero, on='example_index', suffixes=('', '_at_zero'))\n",
    "small_df.head()"
   ]
  },
  {
   "cell_type": "code",
   "execution_count": null,
   "metadata": {},
   "outputs": [],
   "source": [
    "\n",
    "sns.scatterplot(data=small_df, x='pos_prob_at_zero', y='js_div', hue='example_index')"
   ]
  },
  {
   "cell_type": "markdown",
   "metadata": {},
   "source": [
    "# 1. Plot steering efficiency\n"
   ]
  },
  {
   "cell_type": "code",
   "execution_count": null,
   "metadata": {},
   "outputs": [],
   "source": [
    "# Group by steering vectors and examples, but not multiplier\n",
    "fields = config_fields + ['test_positive_example']\n",
    "fields.remove(\"multiplier\")\n",
    "\n",
    "steering_efficiency_df = (\n",
    "    # Here, a group consists of the same SV and example for different multipliers\n",
    "    df.groupby(fields, as_index=False)['js_div']\n",
    "    # Compute steering efficiency as the range of JS div across multipliers\n",
    "    .agg(lambda x: x.max() - x.min())\n",
    "    .rename(columns={'js_div': 'steering_efficiency'})\n",
    ")"
   ]
  },
  {
   "cell_type": "code",
   "execution_count": null,
   "metadata": {},
   "outputs": [],
   "source": [
    "print(len(steering_efficiency_df))\n",
    "steering_efficiency_df.head()"
   ]
  },
  {
   "cell_type": "code",
   "execution_count": null,
   "metadata": {},
   "outputs": [],
   "source": [
    "# For each dataset, take the mean of steering efficiency over all test_positive_examples\n",
    "grouped = steering_efficiency_df.groupby(\"train_dataset\", as_index=False)\n",
    "mean_steering_efficiency = grouped['steering_efficiency'].mean()\n",
    "# Add back in 'mean_pos_prob'\n",
    "mean_steering_efficiency = mean_steering_efficiency.merge(\n",
    "    df[['train_dataset', 'multiplier', 'mean_pos_prob']].drop_duplicates(),\n",
    "    on='train_dataset'\n",
    ")\n",
    "print(mean_steering_efficiency.columns)\n",
    "\n",
    "sns.set_theme(font_scale = 0.5)\n",
    "sns.barplot(data=mean_steering_efficiency, y='train_dataset', x='steering_efficiency')"
   ]
  },
  {
   "cell_type": "code",
   "execution_count": null,
   "metadata": {},
   "outputs": [],
   "source": [
    "from repepo.steering.sweeps.constants import ALL_ABSTRACT_CONCEPT_DATASETS\n",
    "\n",
    "sns.set_theme()\n",
    "sns.barplot(\n",
    "    data=mean_steering_efficiency[mean_steering_efficiency['train_dataset'].isin(ALL_ABSTRACT_CONCEPT_DATASETS)], \n",
    "    y='train_dataset', x='steering_efficiency'\n",
    ")"
   ]
  },
  {
   "cell_type": "code",
   "execution_count": null,
   "metadata": {},
   "outputs": [],
   "source": [
    "# Scatterplot of steering efficiency vs mean pos prob\n",
    "limited_df = mean_steering_efficiency\n",
    "# limited_df = mean_steering_efficiency[mean_steering_efficiency['train_dataset'].isin(ALL_ABSTRACT_CONCEPT_DATASETS)]\n",
    "\n",
    "temp_df = limited_df[limited_df['multiplier'] == 0]\n",
    "\n",
    "fig, ax = plt.subplots()\n",
    "sns.scatterplot(data=temp_df, x='mean_pos_prob', y='steering_efficiency', hue='train_dataset', ax = ax)\n",
    "# Plot linar regression line\n",
    "import numpy as np\n",
    "slope, intercept = np.polyfit(temp_df['mean_pos_prob'], temp_df['steering_efficiency'], 1)\n",
    "x = np.linspace(0, 1, 100)\n",
    "y = slope * x + intercept\n",
    "sns.lineplot(x=x, y=y, ax = ax, color='orange')\n",
    "\n",
    "ax.set_title(\"Steering efficiency vs mean pos prob\")\n",
    "ax.legend(loc='center left', bbox_to_anchor=(1, 0.5))"
   ]
  }
 ],
 "metadata": {
  "kernelspec": {
   "display_name": ".venv",
   "language": "python",
   "name": "python3"
  },
  "language_info": {
   "codemirror_mode": {
    "name": "ipython",
    "version": 3
   },
   "file_extension": ".py",
   "mimetype": "text/x-python",
   "name": "python",
   "nbconvert_exporter": "python",
   "pygments_lexer": "ipython3",
   "version": "3.10.13"
  }
 },
 "nbformat": 4,
 "nbformat_minor": 2
}
