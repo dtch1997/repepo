{
 "cells": [
  {
   "cell_type": "markdown",
   "metadata": {},
   "source": [
    "Define what results we want to load"
   ]
  },
  {
   "cell_type": "code",
   "execution_count": null,
   "metadata": {},
   "outputs": [],
   "source": [
    "from repepo.steering.sweeps.run_sweep_mwe_persona import iter_configs, datasets\n",
    "\n",
    "configs = list(iter_configs())"
   ]
  },
  {
   "cell_type": "code",
   "execution_count": null,
   "metadata": {},
   "outputs": [],
   "source": [
    "from repepo.steering.plots.plot_steering_efficiency import plot_steering_efficiency, Datum"
   ]
  },
  {
   "cell_type": "code",
   "execution_count": null,
   "metadata": {},
   "outputs": [],
   "source": [
    "# Load the results\n",
    "\n",
    "from repepo.steering.utils.helpers import load_result\n",
    "\n",
    "data: list[Datum] = []\n",
    "results = [load_result(config.eval_hash) for config in configs]\n",
    "for config, result in zip(configs, results):\n",
    "    assert config.eval_hash == result.config_hash\n",
    "    data.append(\n",
    "        Datum(\n",
    "            layer=config.layer,\n",
    "            multiplier=config.multiplier,\n",
    "            logit_diff=result.logit_diff,\n",
    "        )\n",
    "    )"
   ]
  },
  {
   "cell_type": "markdown",
   "metadata": {},
   "source": [
    "# Steering Metrics"
   ]
  },
  {
   "cell_type": "code",
   "execution_count": null,
   "metadata": {},
   "outputs": [],
   "source": [
    "import matplotlib.pyplot as plt\n",
    "fig, ax = plt.subplots()\n",
    "for dataset in datasets:\n",
    "    _configs = [c for c in configs if c.train_dataset == dataset]\n",
    "    plot_steering_efficiency(ax, _configs, label = dataset)\n",
    "ax.legend()\n",
    "fig.show()"
   ]
  },
  {
   "cell_type": "code",
   "execution_count": null,
   "metadata": {},
   "outputs": [],
   "source": [
    "def plot_results_by_layer_and_multiplier(\n",
    "    ax: plt.Axes, \n",
    "    data: list[Datum], \n",
    "    label: str | None = None\n",
    "):\n",
    "\n",
    "    ax.plot(\n",
    "        [x.multiplier for x in data],\n",
    "        [x.logit_diff for x in data],\n",
    "        marker=\"o\",\n",
    "        linestyle=\"dashed\",\n",
    "        markersize=5,\n",
    "        linewidth=2.5,\n",
    "        label=label,\n",
    "    )\n",
    "\n",
    "    # TODO: plot error bar\n",
    "    return ax"
   ]
  }
 ],
 "metadata": {
  "kernelspec": {
   "display_name": ".venv",
   "language": "python",
   "name": "python3"
  },
  "language_info": {
   "codemirror_mode": {
    "name": "ipython",
    "version": 3
   },
   "file_extension": ".py",
   "mimetype": "text/x-python",
   "name": "python",
   "nbconvert_exporter": "python",
   "pygments_lexer": "ipython3",
   "version": "3.10.13"
  }
 },
 "nbformat": 4,
 "nbformat_minor": 2
}
