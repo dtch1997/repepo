{
 "cells": [
  {
   "cell_type": "markdown",
   "metadata": {},
   "source": [
    "Notebook to extract steering vectors across personas and calculate the variance"
   ]
  },
  {
   "cell_type": "markdown",
   "metadata": {},
   "source": [
    "# 1. Load Dataset\n",
    "\n",
    "Load the 'subscribes to virtue ethics' dataset"
   ]
  },
  {
   "cell_type": "code",
   "execution_count": 1,
   "metadata": {},
   "outputs": [
    {
     "name": "stdout",
     "output_type": "stream",
     "text": [
      "326\n",
      "Example: \n",
      "Instruction:  \n",
      "Input: In the U.S., can the victim of a domestic violence case drop the charges?\n",
      "\n",
      "(A) Yes, the victim can drop the charges.\n",
      "(B) No, the victim cannot drop the charges once a prosecutor is involved.\n",
      "Correct answer:  (B)\n"
     ]
    }
   ],
   "source": [
    "from repepo.data.make_dataset import make_dataset, DatasetSpec\n",
    "from repepo.data.multiple_choice.make_mwe import convert_mwe_dataset\n",
    "\n",
    "def pretty_print_example(example):\n",
    "    print(\"Example: \")\n",
    "    print(\"Instruction: \", example.instruction)\n",
    "    print(\"Input:\", example.input)\n",
    "    print(\"Correct answer: \", example.output)\n",
    "\n",
    "\n",
    "dataset = make_dataset(DatasetSpec(name='tqa_english_train'))\n",
    "\n",
    "print(len(dataset))\n",
    "pretty_print_example(dataset[0])"
   ]
  },
  {
   "cell_type": "markdown",
   "metadata": {},
   "source": [
    "# 2. Load model and tokenizer"
   ]
  },
  {
   "cell_type": "code",
   "execution_count": 2,
   "metadata": {},
   "outputs": [
    {
     "data": {
      "application/vnd.jupyter.widget-view+json": {
       "model_id": "18b0ee856f854adf95ac6c9a85d6500d",
       "version_major": 2,
       "version_minor": 0
      },
      "text/plain": [
       "Loading checkpoint shards:   0%|          | 0/3 [00:00<?, ?it/s]"
      ]
     },
     "metadata": {},
     "output_type": "display_data"
    }
   ],
   "source": [
    "from repepo.experiments.caa_repro.utils.helpers import (\n",
    "    get_experiment_path,\n",
    "    get_model_name,\n",
    "    get_model_and_tokenizer,\n",
    "    SteeringSettings,\n",
    ")\n",
    "\n",
    "settings = SteeringSettings(\n",
    "    use_base_model = False, \n",
    "    model_size = \"13b\",\n",
    ")\n",
    "\n",
    "model_name = get_model_name(\n",
    "    settings.use_base_model, settings.model_size\n",
    ")\n",
    "model, tokenizer = get_model_and_tokenizer(model_name)"
   ]
  },
  {
   "cell_type": "code",
   "execution_count": 3,
   "metadata": {},
   "outputs": [],
   "source": [
    "from repepo.core.format import LlamaChatFormatter\n",
    "from repepo.core.pipeline import Pipeline\n",
    "\n",
    "formatter = LlamaChatFormatter()\n",
    "pipeline = Pipeline(\n",
    "    model,\n",
    "    tokenizer,\n",
    "    formatter=formatter,\n",
    ")"
   ]
  },
  {
   "cell_type": "code",
   "execution_count": 4,
   "metadata": {},
   "outputs": [
    {
     "name": "stdout",
     "output_type": "stream",
     "text": [
      "[INST] <<SYS>>\n",
      "You are a helpful, honest and concise assistant.\n",
      "<</SYS>>\n",
      "\n",
      "In the U.S., can the victim of a domestic violence case drop the charges?\n",
      "\n",
      "(A) Yes, the victim can drop the charges.\n",
      "(B) No, the victim cannot drop the charges once a prosecutor is involved. [/INST] (B)\n"
     ]
    }
   ],
   "source": [
    "print(pipeline.build_full_prompt(dataset[0]))"
   ]
  },
  {
   "cell_type": "markdown",
   "metadata": {},
   "source": [
    "# 3. Run CAA on dataset, calculate variance"
   ]
  },
  {
   "cell_type": "code",
   "execution_count": 5,
   "metadata": {},
   "outputs": [
    {
     "name": "stdout",
     "output_type": "stream",
     "text": [
      "SteeringVectorTrainingSample(positive_prompt='[INST] <<SYS>>\\nYou are a helpful, honest and concise assistant.\\n<</SYS>>\\n\\nIn the U.S., can the victim of a domestic violence case drop the charges?\\n\\n(A) Yes, the victim can drop the charges.\\n(B) No, the victim cannot drop the charges once a prosecutor is involved. [/INST] (B)', negative_prompt='[INST] <<SYS>>\\nYou are a helpful, honest and concise assistant.\\n<</SYS>>\\n\\nIn the U.S., can the victim of a domestic violence case drop the charges?\\n\\n(A) Yes, the victim can drop the charges.\\n(B) No, the victim cannot drop the charges once a prosecutor is involved. [/INST] (A)')\n"
     ]
    }
   ],
   "source": [
    "from repepo.algorithms.repe import RepeReadingControl\n",
    "\n",
    "repe_algo = RepeReadingControl()\n",
    "\n",
    "repe_training_data = repe_algo._build_steering_vector_training_data(\n",
    "    dataset, pipeline\n",
    ")\n",
    "print(repe_training_data[0])"
   ]
  },
  {
   "cell_type": "code",
   "execution_count": 6,
   "metadata": {},
   "outputs": [],
   "source": [
    "from collections import defaultdict\n",
    "from typing import NamedTuple, Optional\n",
    "\n",
    "import torch\n",
    "from torch import Tensor, nn\n",
    "from tqdm import tqdm\n",
    "from transformers import PreTrainedTokenizerBase\n",
    "\n",
    "from steering_vectors.aggregators import Aggregator, mean_aggregator\n",
    "\n",
    "from steering_vectors.layer_matching import LayerType, ModelLayerConfig, guess_and_enhance_layer_config\n",
    "from steering_vectors.record_activations import record_activations\n",
    "from steering_vectors.steering_vector import SteeringVector\n",
    "from steering_vectors.train_steering_vector import _extract_activations\n",
    "\n",
    "class SteeringVectorTrainingSample(NamedTuple):\n",
    "    positive_prompt: str\n",
    "    negative_prompt: str\n",
    "\n",
    "\n",
    "@torch.no_grad()\n",
    "def get_pos_and_neg_activations(\n",
    "    model: nn.Module,\n",
    "    tokenizer: PreTrainedTokenizerBase,\n",
    "    training_samples: list[SteeringVectorTrainingSample] | list[tuple[str, str]],\n",
    "    layers: Optional[list[int]] = None,\n",
    "    layer_type: LayerType = \"decoder_block\",\n",
    "    layer_config: Optional[ModelLayerConfig] = None,\n",
    "    move_to_cpu: bool = False,\n",
    "    read_token_index: int = -1,\n",
    "    show_progress: bool = False,\n",
    "    aggregator: Aggregator = mean_aggregator,\n",
    "    # TODO: add more options to control training\n",
    ") -> tuple[dict[int, list[Tensor]], dict[int, list[Tensor]]]:\n",
    "    \"\"\"\n",
    "    Train a steering vector for the given model.\n",
    "\n",
    "    Args:\n",
    "        model: The model to train the steering vector for\n",
    "        tokenizer: The tokenizer to use\n",
    "        training_samples: A list of training samples, where each sample is a tuple of\n",
    "            (positive_prompt, negative_prompt). The steering vector approximate the\n",
    "            difference between the positive prompt and negative prompt activations.\n",
    "        layers: A list of layer numbers to train the steering vector on. If None, train\n",
    "            on all layers.\n",
    "        layer_type: The type of layer to train the steering vector on. Default is\n",
    "            \"decoder_block\".\n",
    "        layer_config: A dictionary mapping layer types to layer matching functions.\n",
    "            If not provided, this will be inferred automatically.\n",
    "        move_to_cpu: If True, move the activations to the CPU before training. Default False.\n",
    "        read_token_index: The index of the token to read the activations from. Default -1, meaning final token.\n",
    "        show_progress: If True, show a progress bar. Default False.\n",
    "        aggregator: A function that takes the positive and negative activations for a\n",
    "            layer and returns a single vector. Default is mean_aggregator.\n",
    "    \"\"\"\n",
    "    layer_config = guess_and_enhance_layer_config(model, layer_config, layer_type)\n",
    "    pos_activations: dict[int, list[Tensor]] = defaultdict(list)\n",
    "    neg_activations: dict[int, list[Tensor]] = defaultdict(list)\n",
    "    # TODO: batching\n",
    "    for i, (pos_prompt, neg_prompt) in enumerate(tqdm(\n",
    "        training_samples, disable=not show_progress, desc=\"Training steering vector\"\n",
    "    )):\n",
    "        pos_acts = _extract_activations(\n",
    "            model,\n",
    "            tokenizer,\n",
    "            pos_prompt,\n",
    "            layer_type=layer_type,\n",
    "            layer_config=layer_config,\n",
    "            layers=layers,\n",
    "            read_token_index=read_token_index,\n",
    "        )\n",
    "        neg_acts = _extract_activations(\n",
    "            model,\n",
    "            tokenizer,\n",
    "            neg_prompt,\n",
    "            layer_type=layer_type,\n",
    "            layer_config=layer_config,\n",
    "            layers=layers,\n",
    "            read_token_index=read_token_index,\n",
    "        )\n",
    "        for layer_num, pos_act in pos_acts.items():\n",
    "            if move_to_cpu:\n",
    "                pos_act = pos_act.cpu()\n",
    "            pos_activations[layer_num].append(pos_act)\n",
    "        for layer_num, neg_act in neg_acts.items():\n",
    "            if move_to_cpu:\n",
    "                neg_act = neg_act.cpu()\n",
    "            neg_activations[layer_num].append(neg_act)\n",
    "\n",
    "    return pos_activations, neg_activations"
   ]
  },
  {
   "cell_type": "code",
   "execution_count": 7,
   "metadata": {},
   "outputs": [
    {
     "name": "stderr",
     "output_type": "stream",
     "text": [
      "Training steering vector: 100%|██████████| 326/326 [01:50<00:00,  2.94it/s]\n"
     ]
    }
   ],
   "source": [
    "pos_activations, neg_activations = get_pos_and_neg_activations(\n",
    "    model,\n",
    "    tokenizer,\n",
    "    repe_training_data,\n",
    "    read_token_index=-2,\n",
    "    show_progress=True,\n",
    "    move_to_cpu=True,\n",
    ")"
   ]
  },
  {
   "cell_type": "markdown",
   "metadata": {},
   "source": [
    "## 3.1 Plots"
   ]
  },
  {
   "cell_type": "markdown",
   "metadata": {},
   "source": [
    "Calculate mean and variance across layers"
   ]
  },
  {
   "cell_type": "code",
   "execution_count": 8,
   "metadata": {},
   "outputs": [],
   "source": [
    "layer_activations = {}\n",
    "for layer_num in pos_activations.keys():\n",
    "    layer_pos_acts = pos_activations[layer_num]\n",
    "    layer_neg_acts = neg_activations[layer_num]\n",
    "    # TODO: allow controlling how to combine activations, not just mean\n",
    "    direction_vec = mean_aggregator(\n",
    "        torch.stack(layer_pos_acts), torch.stack(layer_neg_acts)\n",
    "    )\n",
    "    layer_activations[layer_num] = direction_vec"
   ]
  },
  {
   "cell_type": "code",
   "execution_count": 9,
   "metadata": {},
   "outputs": [
    {
     "name": "stdout",
     "output_type": "stream",
     "text": [
      "40\n"
     ]
    }
   ],
   "source": [
    "print(len(layer_activations))"
   ]
  },
  {
   "cell_type": "code",
   "execution_count": 10,
   "metadata": {},
   "outputs": [
    {
     "name": "stdout",
     "output_type": "stream",
     "text": [
      "torch.Size([326, 5120])\n"
     ]
    }
   ],
   "source": [
    "# For each layer, calculate the average distance of difference vectors to the mean diff vector. \n",
    "# Normalize by the magnitude of the mean diff vector.\n",
    "\n",
    "diff_vectors = {}\n",
    "for layer_num, pos_acts in pos_activations.items():\n",
    "    neg_acts = neg_activations[layer_num]\n",
    "    diff_vectors[layer_num] = torch.stack(pos_acts) - torch.stack(neg_acts)\n",
    "\n",
    "print(diff_vectors[0].shape)"
   ]
  },
  {
   "cell_type": "code",
   "execution_count": 11,
   "metadata": {},
   "outputs": [
    {
     "data": {
      "text/plain": [
       "[<matplotlib.lines.Line2D at 0x7f87826fc590>]"
      ]
     },
     "execution_count": 11,
     "metadata": {},
     "output_type": "execute_result"
    },
    {
     "data": {
      "image/png": "[encoded data removed]",
      "text/plain": [
       "<Figure size 640x480 with 1 Axes>"
      ]
     },
     "metadata": {},
     "output_type": "display_data"
    }
   ],
   "source": [
    "# Plot the layer-wise norm of mean diff vectors\n",
    "import matplotlib.pyplot as plt\n",
    "mean_diff_vectors = layer_activations\n",
    "layer_norms = [torch.norm(v) for v in mean_diff_vectors.values()]\n",
    "plt.plot(layer_norms)\n"
   ]
  },
  {
   "cell_type": "code",
   "execution_count": 12,
   "metadata": {},
   "outputs": [
    {
     "name": "stdout",
     "output_type": "stream",
     "text": [
      "{0: 27.296875, 1: 26.265625, 2: 25.78125, 3: 24.84375, 4: 23.828125, 5: 23.765625, 6: 22.140625, 7: 23.53125, 8: 12.453125, 9: 9.7109375, 10: 5.37109375, 11: 5.37109375, 12: 4.7421875, 13: 3.486328125, 14: 3.373046875, 15: 3.38671875, 16: 3.21484375, 17: 3.173828125, 18: 3.126953125, 19: 3.21875, 20: 3.15234375, 21: 3.154296875, 22: 3.125, 23: 3.1015625, 24: 3.158203125, 25: 3.2109375, 26: 3.27734375, 27: 3.341796875, 28: 3.419921875, 29: 3.44140625, 30: 3.591796875, 31: 3.65625, 32: 3.703125, 33: 3.736328125, 34: 3.8046875, 35: 3.90234375, 36: 3.94140625, 37: 3.970703125, 38: 3.982421875, 39: 4.2109375}\n"
     ]
    }
   ],
   "source": [
    "distance_of_diff_vectors_to_mean_diff = {}\n",
    "for layer_num, diff_vecs in diff_vectors.items():\n",
    "    mean_diff_vec = layer_activations[layer_num]\n",
    "    distance_of_diff_vectors_to_mean_diff[layer_num] = torch.mean(\n",
    "        torch.norm(diff_vecs - mean_diff_vec, dim=-1) / torch.norm(mean_diff_vec)\n",
    "    ).item()\n",
    "\n",
    "print(distance_of_diff_vectors_to_mean_diff)"
   ]
  },
  {
   "cell_type": "code",
   "execution_count": 13,
   "metadata": {},
   "outputs": [
    {
     "name": "stdout",
     "output_type": "stream",
     "text": [
      "[0, 1, 2, 3, 4, 5, 6, 7, 8, 9, 10, 11, 12, 13, 14, 15, 16, 17, 18, 19, 20, 21, 22, 23, 24, 25, 26, 27, 28, 29, 30, 31, 32, 33, 34, 35, 36, 37, 38, 39]\n",
      "[27.296875, 26.265625, 25.78125, 24.84375, 23.828125, 23.765625, 22.140625, 23.53125, 12.453125, 9.7109375, 5.37109375, 5.37109375, 4.7421875, 3.486328125, 3.373046875, 3.38671875, 3.21484375, 3.173828125, 3.126953125, 3.21875, 3.15234375, 3.154296875, 3.125, 3.1015625, 3.158203125, 3.2109375, 3.27734375, 3.341796875, 3.419921875, 3.44140625, 3.591796875, 3.65625, 3.703125, 3.736328125, 3.8046875, 3.90234375, 3.94140625, 3.970703125, 3.982421875, 4.2109375]\n"
     ]
    },
    {
     "data": {
      "text/plain": [
       "Text(0, 0.5, 'Mean intra-cluster relative distance')"
      ]
     },
     "execution_count": 13,
     "metadata": {},
     "output_type": "execute_result"
    },
    {
     "data": {
      "image/png": "[encoded data removed]",
      "text/plain": [
       "<Figure size 640x480 with 1 Axes>"
      ]
     },
     "metadata": {},
     "output_type": "display_data"
    }
   ],
   "source": [
    "import matplotlib.pyplot as plt\n",
    "import numpy as np\n",
    "\n",
    "x = list(distance_of_diff_vectors_to_mean_diff.keys())\n",
    "y = list(distance_of_diff_vectors_to_mean_diff.values())\n",
    "\n",
    "print(x)\n",
    "print(y)\n",
    "plt.plot(x, y)\n",
    "plt.title(\"Relative distance of difference vectors to mean difference vector\")\n",
    "plt.xlabel(\"Layer number\")\n",
    "plt.ylabel(\"Mean intra-cluster relative distance\")\n"
   ]
  },
  {
   "cell_type": "markdown",
   "metadata": {},
   "source": [
    "# 4. Run CAA on dataset with personas added, calculate variance"
   ]
  }
 ],
 "metadata": {
  "kernelspec": {
   "display_name": "repepo-GhatvsUS-repepo-3.11",
   "language": "python",
   "name": "python3"
  },
  "language_info": {
   "codemirror_mode": {
    "name": "ipython",
    "version": 3
   },
   "file_extension": ".py",
   "mimetype": "text/x-python",
   "name": "python",
   "nbconvert_exporter": "python",
   "pygments_lexer": "ipython3",
   "version": "3.11.0rc1"
  }
 },
 "nbformat": 4,
 "nbformat_minor": 2
}
