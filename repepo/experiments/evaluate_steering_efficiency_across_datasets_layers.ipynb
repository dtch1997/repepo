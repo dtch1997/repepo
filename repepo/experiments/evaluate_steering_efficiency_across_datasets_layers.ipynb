{
 "cells": [
  {
   "cell_type": "markdown",
   "metadata": {},
   "source": [
    "Define what results we want to load"
   ]
  },
  {
   "cell_type": "code",
   "execution_count": null,
   "metadata": {},
   "outputs": [],
   "source": [
    "%env WORK_DIR = /home/daniel/ml_workspace/repepo/experiments"
   ]
  },
  {
   "cell_type": "code",
   "execution_count": null,
   "metadata": {},
   "outputs": [],
   "source": [
    "from repepo.steering.sweeps.evaluate_steering_efficiency_across_datasets_layers import iter_configs\n",
    "from repepo.steering.utils.helpers import load_eval_result, get_eval_result_path, get_experiment_path\n",
    "\n",
    "configs_and_results = []\n",
    "for config in iter_configs():\n",
    "    try:\n",
    "        eval_result = load_eval_result(config.eval_hash)\n",
    "        configs_and_results.append((config, eval_result))\n",
    "    except: \n",
    "        print(config.eval_hash)\n",
    "    \n"
   ]
  },
  {
   "cell_type": "markdown",
   "metadata": {},
   "source": [
    "Pedagogical example of how to compute steering efficiency"
   ]
  },
  {
   "cell_type": "code",
   "execution_count": null,
   "metadata": {},
   "outputs": [],
   "source": [
    "#for config, result in configs_and_results:\n",
    "#    print(f\"{config.train_dataset}: \\t logit_diff = {result.metrics['mean_logit_diff']:.2f} +/- {result.metrics['std_logit_diff']:.2f}\")\n",
    "\n",
    "# Construct a dataframe\n",
    "import pandas as pd\n",
    "df = pd.DataFrame([{\n",
    "    'train_dataset': config.train_dataset,\n",
    "    'layer': config.layer,\n",
    "    'multiplier': config.multiplier,\n",
    "    'mean_logit_diff': result.metrics['mean_logit_diff'],\n",
    "    'std_logit_diff': result.metrics['std_logit_diff'],\n",
    "    'mean_pos_prob': result.metrics['mean_pos_prob'],\n",
    "    'std_pos_prob': result.metrics['std_pos_prob'],\n",
    "} for config, result in configs_and_results])\n",
    "\n",
    "print(len(df))\n",
    "df.head()"
   ]
  },
  {
   "cell_type": "code",
   "execution_count": null,
   "metadata": {},
   "outputs": [],
   "source": [
    "import numpy as np\n",
    "import matplotlib.pyplot as plt\n",
    "\n",
    "def plot_steering_efficiency(df, dataset, layer):\n",
    "    data_df = df[(df.train_dataset == dataset) & (df.layer == layer)]\n",
    "\n",
    "    multipliers = data_df.multiplier.unique()\n",
    "    multipliers.sort()\n",
    "    layers = data_df.layer.unique()\n",
    "    layers.sort()\n",
    "\n",
    "    slope, intercept = np.polyfit(multipliers, data_df.mean_logit_diff, 1)\n",
    "    plt.figure(figsize=(10, 6))\n",
    "    for layer in layers:\n",
    "        layer_df = data_df[data_df.layer == layer]\n",
    "        plt.errorbar(layer_df.multiplier, layer_df.mean_logit_diff, yerr=layer_df.std_logit_diff, fmt='o', label=layer)\n",
    "        plt.plot(multipliers, slope * multipliers + intercept, label='Linear fit')\n",
    "    plt.xlabel('Steering multiplier')\n",
    "    plt.ylabel('Mean logit difference')\n",
    "    plt.title(f'Steering efficiency for {dataset}')\n",
    "    plt.legend()\n",
    "\n",
    "\n",
    "datasets = df.train_dataset.unique()\n",
    "for dataset in datasets:\n",
    "    layer = 13\n",
    "    plot_steering_efficiency(df, dataset, layer)\n",
    "    plt.show()"
   ]
  },
  {
   "cell_type": "markdown",
   "metadata": {},
   "source": [
    "Compute the steering efficiency"
   ]
  },
  {
   "cell_type": "code",
   "execution_count": null,
   "metadata": {},
   "outputs": [],
   "source": [
    "\n",
    "# Group results by (train_dataset, layer)\n",
    "grouped = df.groupby(['train_dataset', 'layer'])\n",
    "# Fit a linear model of (mean logit diff) vs (multiplier)\n",
    "import numpy as np\n",
    "\n",
    "def compute_steering_efficiency(row):\n",
    "    x = row.multiplier\n",
    "    y = row.mean_logit_diff\n",
    "    (slope, _), res, rank, sv, rcond = np.polyfit(x, y, 1, full=True)\n",
    "    return pd.Series({'steering_efficiency': slope, 'residuals': np.sqrt(res).item()})\n",
    "\n",
    "steering_efficiency_df = grouped.apply(compute_steering_efficiency)\n",
    "# merge back into original df\n",
    "df = df.merge(steering_efficiency_df, left_on=['train_dataset', 'layer'], right_index=True)\n",
    "df.head()"
   ]
  },
  {
   "cell_type": "code",
   "execution_count": null,
   "metadata": {},
   "outputs": [],
   "source": [
    "# Select only dataset name, layer, and steering efficiency\n",
    "data_df = df[['train_dataset', 'layer', 'steering_efficiency']]\n",
    "data_df = data_df.drop_duplicates()\n",
    "print(len(data_df))\n",
    "\n",
    "# For each dataset, plot the steering efficiency by layer\n",
    "import seaborn as sns\n",
    "import matplotlib.pyplot as plt\n",
    "sns.set_theme(style=\"whitegrid\")\n",
    "plt.figure(figsize=(10, 6))\n",
    "sns.lineplot(data=data_df, x='layer', y='steering_efficiency', hue='train_dataset')\n"
   ]
  },
  {
   "cell_type": "code",
   "execution_count": null,
   "metadata": {},
   "outputs": [],
   "source": []
  }
 ],
 "metadata": {
  "kernelspec": {
   "display_name": ".venv",
   "language": "python",
   "name": "python3"
  },
  "language_info": {
   "codemirror_mode": {
    "name": "ipython",
    "version": 3
   },
   "file_extension": ".py",
   "mimetype": "text/x-python",
   "name": "python",
   "nbconvert_exporter": "python",
   "pygments_lexer": "ipython3",
   "version": "3.10.13"
  }
 },
 "nbformat": 4,
 "nbformat_minor": 2
}
