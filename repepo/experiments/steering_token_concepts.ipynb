{
 "cells": [
  {
   "cell_type": "markdown",
   "metadata": {},
   "source": [
    "We're interested in:\n",
    "- Baseline steering performance for token concepts"
   ]
  },
  {
   "cell_type": "code",
   "execution_count": null,
   "metadata": {},
   "outputs": [],
   "source": [
    "%env WORK_DIR = /home/daniel/ml_workspace/repepo/experiments"
   ]
  },
  {
   "cell_type": "code",
   "execution_count": null,
   "metadata": {},
   "outputs": [],
   "source": [
    "from repepo.steering.run_experiment import run_experiment"
   ]
  },
  {
   "cell_type": "code",
   "execution_count": null,
   "metadata": {},
   "outputs": [],
   "source": [
    "import itertools\n",
    "from repepo.steering.utils.helpers import SteeringConfig, EmptyTorchCUDACache\n",
    "from repepo.steering.sweeps.constants import ALL_TOKEN_CONCEPT_DATASETS, ALL_LLAMA_7B_LAYERS, ALL_MULTIPLIERS\n",
    "from repepo.steering.sweeps.configs import get_token_concept_config\n",
    "\n",
    "datasets = ALL_TOKEN_CONCEPT_DATASETS\n",
    "layers = ALL_LLAMA_7B_LAYERS\n",
    "multipliers = ALL_MULTIPLIERS\n",
    "\n",
    "def iter_config():\n",
    "    for dataset, layer, multiplier in itertools.product(datasets, layers, multipliers):\n",
    "        yield get_token_concept_config(dataset, layer, multiplier)"
   ]
  },
  {
   "cell_type": "code",
   "execution_count": null,
   "metadata": {},
   "outputs": [],
   "source": [
    "RUN = False \n",
    "\n",
    "if RUN:\n",
    "    results = []\n",
    "    for config in iter_config():\n",
    "        with EmptyTorchCUDACache():\n",
    "            result = run_experiment(config, force_rerun=True, logging_level=\"INFO\")\n",
    "            results.append((config, result))\n",
    "\n",
    "else:\n",
    "    from repepo.steering.utils.helpers import load_eval_result\n",
    "    results = []\n",
    "    for config in iter_config():\n",
    "        result = load_eval_result(config.eval_hash)\n",
    "        results.append((config, result))"
   ]
  },
  {
   "cell_type": "markdown",
   "metadata": {},
   "source": [
    "Questions to answer: \n",
    "- What's the steerability of individual examples? \n",
    "- What's the steering efficiency of SVs extracted from individual examples?"
   ]
  },
  {
   "cell_type": "code",
   "execution_count": null,
   "metadata": {},
   "outputs": [],
   "source": [
    "# Aggregate the data into a dataframe\n",
    "\n",
    "\n",
    "import pandas as pd\n",
    "from dataclasses import asdict\n",
    "rows = []\n",
    "for config, result in results:\n",
    "    row = asdict(config)\n",
    "    row.update(**{\n",
    "        \"test_positive_example\": result.predictions[0].positive_output_prob.text,\n",
    "        \"test_negative_example\": result.predictions[0].negative_output_prob.text,\n",
    "        \"mean_logit_diff\": result.metrics['mean_logit_diff'],\n",
    "    })\n",
    "    rows.append(row)\n",
    "\n",
    "df = pd.DataFrame(rows)\n",
    "print(len(df))\n",
    "df.head()"
   ]
  },
  {
   "cell_type": "code",
   "execution_count": null,
   "metadata": {},
   "outputs": [],
   "source": [
    "\n",
    "# Group results by (train_dataset, layer)\n",
    "grouped = df.groupby(['train_dataset', 'layer'])\n",
    "# Fit a linear model of (mean logit diff) vs (multiplier)\n",
    "import numpy as np\n",
    "\n",
    "def compute_steering_efficiency(row):\n",
    "    x = row.multiplier\n",
    "    y = row.mean_logit_diff\n",
    "    (slope, _), res, rank, sv, rcond = np.polyfit(x, y, 1, full=True)\n",
    "    return pd.Series({'steering_efficiency': slope, 'residuals': np.sqrt(res).item()})\n",
    "\n",
    "steering_efficiency_df = grouped.apply(compute_steering_efficiency)\n",
    "# merge back into original df\n",
    "df = df.merge(steering_efficiency_df, left_on=['train_dataset', 'layer'], right_index=True)\n",
    "df.head()"
   ]
  },
  {
   "cell_type": "code",
   "execution_count": null,
   "metadata": {},
   "outputs": [],
   "source": [
    "# Filter out the datasets where either 'test_positive_example' or 'test_negative_example' contains a forward slash\n",
    "df = df[~df.test_positive_example.str.contains('/')]\n",
    "df = df[~df.test_negative_example.str.contains('/')]"
   ]
  },
  {
   "cell_type": "code",
   "execution_count": null,
   "metadata": {},
   "outputs": [],
   "source": [
    "# Visualize the 3 datasets\n",
    "pd.set_option('display.max_colwidth', None)\n",
    "data_df = df[['train_dataset', 'test_positive_example', 'test_negative_example']]\n",
    "data_df = data_df.drop_duplicates()\n",
    "# Sort by train_dataset\n",
    "data_df = data_df.sort_values(by='train_dataset')\n",
    "\n",
    "# Display without index\n",
    "from IPython.display import HTML\n",
    "HTML(data_df.to_html(index=False))\n"
   ]
  },
  {
   "cell_type": "code",
   "execution_count": null,
   "metadata": {},
   "outputs": [],
   "source": [
    "# Filter out the datasets where either 'test_positive_example' or 'test_negative_example' contains a forward slash\n",
    "df = df[~df.test_positive_example.str.contains('/')]\n",
    "df = df[~df.test_negative_example.str.contains('/')]\n",
    "# Filter out the 'country-capital-with-prompt' and 'E01 [country - capital]_with_prompt' datasets\n",
    "df = df[~df.train_dataset.str.contains('country-capital-with-prompt')]\n",
    "df = df[~df.train_dataset.str.contains('E01 \\[country - capital\\]_with_prompt')]\n"
   ]
  },
  {
   "cell_type": "code",
   "execution_count": null,
   "metadata": {},
   "outputs": [],
   "source": [
    "# Select only dataset name, layer, and steering efficiency\n",
    "data_df = df[['train_dataset', 'layer', 'steering_efficiency']]\n",
    "data_df = data_df.drop_duplicates()\n",
    "print(len(data_df))\n",
    "\n",
    "# For each dataset, plot the steering efficiency by layer\n",
    "import seaborn as sns\n",
    "import matplotlib.pyplot as plt\n",
    "sns.set_theme(style=\"whitegrid\")\n",
    "plt.figure(figsize=(10, 6))\n",
    "# datasets in ascending order alphabetically\n",
    "hue_order = sorted(df['train_dataset'].unique())\n",
    "sns.lineplot(data=data_df, x='layer', y='steering_efficiency', hue='train_dataset', hue_order=hue_order)\n",
    "# SEaborn legend to side of plot\n",
    "plt.legend(loc='center left', bbox_to_anchor=(1, 0.5), ncol=1)\n"
   ]
  },
  {
   "cell_type": "code",
   "execution_count": null,
   "metadata": {},
   "outputs": [],
   "source": [
    "# The plot above is a bit cluttered, filter down to 10 randomly selected datasets\n",
    "import random\n",
    "random.seed(0)\n",
    "selected_datasets = random.sample(df['train_dataset'].unique().tolist(), 10)\n",
    "filtered_df = data_df[data_df['train_dataset'].isin(selected_datasets)]\n",
    "# Sort by train_dataset\n",
    "filtered_df = filtered_df.sort_values(by='train_dataset')\n",
    "plt.figure(figsize=(10, 6))\n",
    "sns.lineplot(data=filtered_df, x='layer', y='steering_efficiency', hue='train_dataset')\n",
    "plt.legend(loc='center left', bbox_to_anchor=(1, 0.5), ncol=1)\n"
   ]
  },
  {
   "cell_type": "code",
   "execution_count": null,
   "metadata": {},
   "outputs": [],
   "source": [
    "# Plot the max steering efficiency across datasets. \n",
    "data_df = df[['train_dataset', 'layer', 'steering_efficiency']]\n",
    "data_df = data_df.drop_duplicates()\n",
    "max_steering_efficiency_df = data_df.groupby(['train_dataset', 'layer']).max()\n",
    "plt.figure(figsize=(10, 6))\n",
    "sns.barplot(data=max_steering_efficiency_df, x='train_dataset', y='steering_efficiency')\n",
    "plt.xticks(rotation=45)\n",
    "plt.title('Max steering efficiency across all layers for each dataset')"
   ]
  },
  {
   "cell_type": "code",
   "execution_count": null,
   "metadata": {},
   "outputs": [],
   "source": [
    "# For each dataset, plot the layer index with highest steering efficiency. \n",
    "# This is useful to see if there is a clear \"winner\" layer for each dataset\n",
    "best_layer_df = data_df.groupby('train_dataset').apply(lambda x: x.loc[x.steering_efficiency.idxmax()])\n",
    "# best_layer_df = best_layer_df.sort_values(by='layer')\n",
    "\n",
    "# Barplot\n",
    "plt.figure(figsize=(10, 6))\n",
    "sns.barplot(data=best_layer_df, x='train_dataset', y='layer', palette='viridis')\n",
    "plt.xticks(rotation=45)\n",
    "plt.ylabel('Layer index with highest steering efficiency')\n",
    "plt.title('Layer index with highest steering efficiency for each dataset')\n",
    "\n"
   ]
  },
  {
   "cell_type": "code",
   "execution_count": null,
   "metadata": {},
   "outputs": [],
   "source": [
    "# Turn off grid \n",
    "sns.set_theme(style=\"white\")\n",
    "\n",
    "# Do a scatter plot of (best_layer_index, best_steering_efficiency)\n",
    "plt.figure(figsize=(10, 6))\n",
    "sns.scatterplot(data=best_layer_df, x='layer', y='steering_efficiency', hue='train_dataset', s = 400, alpha = 0.5)\n",
    "plt.xlabel('Layer index')\n",
    "plt.ylabel('Steering efficiency')\n",
    "plt.title('Layer index with highest steering efficiency for each dataset')\n",
    "plt.legend(loc='center left', bbox_to_anchor=(1, 0.5), ncol=1)"
   ]
  }
 ],
 "metadata": {
  "kernelspec": {
   "display_name": ".venv",
   "language": "python",
   "name": "python3"
  },
  "language_info": {
   "codemirror_mode": {
    "name": "ipython",
    "version": 3
   },
   "file_extension": ".py",
   "mimetype": "text/x-python",
   "name": "python",
   "nbconvert_exporter": "python",
   "pygments_lexer": "ipython3",
   "version": "3.10.13"
  }
 },
 "nbformat": 4,
 "nbformat_minor": 2
}
