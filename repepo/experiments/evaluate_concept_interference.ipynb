{
 "cells": [
  {
   "cell_type": "code",
   "execution_count": null,
   "metadata": {},
   "outputs": [],
   "source": [
    "%env WORK_DIR = /home/daniel/ml_workspace/repepo/experiments"
   ]
  },
  {
   "cell_type": "code",
   "execution_count": null,
   "metadata": {},
   "outputs": [],
   "source": [
    "from repepo.steering.sweeps.evaluate_concept_interference import iter_config\n",
    "from repepo.steering.run_sweep import run_sweep, load_sweep_results\n",
    "\n",
    "RUN = False\n",
    "configs = list(iter_config())\n",
    "\n",
    "if RUN:\n",
    "    run_sweep(configs)\n",
    "\n",
    "results = load_sweep_results(configs)"
   ]
  },
  {
   "cell_type": "code",
   "execution_count": null,
   "metadata": {},
   "outputs": [],
   "source": [
    "import pandas as pd \n",
    "from dataclasses import asdict\n",
    "\n",
    "import pandas as pd\n",
    "rows = []\n",
    "for config, result in results:\n",
    "    row = {}\n",
    "    row.update(asdict(config))\n",
    "    row.update(result.metrics)\n",
    "    # Sample-wise results\n",
    "    for prediction in result.predictions:\n",
    "        sample_row = row.copy()\n",
    "        sample_row.update({\"test_positive_example\": prediction.positive_output_prob.text})\n",
    "        sample_row.update({\"test_negative_example\": prediction.negative_output_prob.text})\n",
    "        sample_row.update(prediction.metrics)\n",
    "        rows.append(sample_row)\n",
    "\n",
    "df = pd.DataFrame(rows)\n",
    "df = df.drop_duplicates()\n",
    "print(len(df))\n",
    "df.head()"
   ]
  },
  {
   "cell_type": "code",
   "execution_count": null,
   "metadata": {},
   "outputs": [],
   "source": [
    "# Dummy dataset for debugging\n",
    "_df = df[df[\"train_dataset\"] == \"anti-immigration\"]\n",
    "_df = _df[_df[\"test_dataset\"] == \"anti-immigration\"]"
   ]
  },
  {
   "cell_type": "code",
   "execution_count": null,
   "metadata": {},
   "outputs": [],
   "source": [
    "from repepo.utils.stats import bernoulli_js_dist\n",
    "\n",
    "# Compute Jenson-Shannon divergence by aggregating over samples\n",
    "config_fields = list(asdict(configs[0]).keys())\n",
    "fields = config_fields + [\"test_positive_example\", \"test_negative_example\"]\n",
    "fields.remove(\"multiplier\")\n",
    "\n",
    "def compute_js_div(group):\n",
    "    \"\"\" \n",
    "    Within a group, we have the exact same SV and eval example, but different multipliers. \n",
    "    So we should compute the JS divergence to the zero multiplier\n",
    "    and store it in the group.\n",
    "    \"\"\"    \n",
    "    zero_multiplier = group[group.multiplier == 0].pos_prob.values[0]\n",
    "    js_div = group.apply(lambda x: bernoulli_js_dist(zero_multiplier, x.pos_prob), axis=1)\n",
    "    return js_div\n",
    "\n",
    "grouped = df.groupby(fields, as_index = False)[['multiplier', 'pos_prob']]\n",
    "df['js_div'] = grouped.apply(compute_js_div).reset_index(level=0, drop=True)\n",
    "df.head()"
   ]
  },
  {
   "cell_type": "code",
   "execution_count": null,
   "metadata": {},
   "outputs": [],
   "source": [
    "\n",
    "config_fields = list(asdict(configs[0]).keys())\n",
    "config_fields.remove('multiplier')\n",
    "\n",
    "grouped = df.groupby(config_fields)\n",
    "\n",
    "# Fit a linear model of (mean logit diff) vs (multiplier)\n",
    "import numpy as np\n",
    "\n",
    "def compute_steering_efficiency(row):\n",
    "    x = row.multiplier\n",
    "    y = row.js_div\n",
    "    (slope, _), res, rank, sv, rcond = np.polyfit(x, y, 1, full=True)\n",
    "    return pd.Series({'steering_efficiency': slope, 'residuals': np.sqrt(res).item()})\n",
    "\n",
    "steering_efficiency_df = grouped.apply(compute_steering_efficiency)\n",
    "# merge back into original df\n",
    "df = df.merge(steering_efficiency_df, left_on=config_fields, right_index=True)\n",
    "print(len(df))\n",
    "df.head()"
   ]
  },
  {
   "cell_type": "code",
   "execution_count": null,
   "metadata": {},
   "outputs": [],
   "source": [
    "# Calculate mean js divergence\n",
    "\n",
    "config_fields = list(asdict(configs[0]).keys())\n",
    "grouped = df.groupby(config_fields)\n",
    "mean_js_div = grouped.js_div.mean()\n",
    "mean_js_div = mean_js_div.reset_index()\n",
    "print(len(mean_js_div))\n",
    "mean_js_div.head()\n",
    "\n",
    "# Plot mean js div vs multiplier for train, test = anti-immigration\n",
    "import matplotlib.pyplot as plt\n",
    "import seaborn as sns\n",
    "temp_df = df[df[\"train_dataset\"] == \"power-seeking-inclination\"]\n",
    "temp_df = temp_df[temp_df[\"test_dataset\" ] == \"power-seeking-inclination\"]\n",
    "print(len(temp_df))\n",
    "\n",
    "plt.figure(figsize=(10, 6))\n",
    "sns.lineplot(data=temp_df, x='multiplier', y='js_div', hue='aggregator')\n"
   ]
  },
  {
   "cell_type": "code",
   "execution_count": null,
   "metadata": {},
   "outputs": [],
   "source": [
    "\n",
    "# Construct an NxN matrix of steering efficiency,\n",
    "# where X is train dataset, Y is test dataset, and value is steering efficiency\n",
    "import seaborn as sns\n",
    "import matplotlib.pyplot as plt\n",
    "\n",
    "temp_df = df[[\"train_dataset\", \"test_dataset\", \"layer\", \"aggregator\", \"steering_efficiency\"]].drop_duplicates()\n",
    "print(len(temp_df))\n",
    "temp_df.head()\n",
    "\n",
    "temp_df = temp_df[temp_df.aggregator == \"mean\"]\n",
    "\n",
    "sns.set_theme(style=\"whitegrid\")\n",
    "plt.figure()\n",
    "plot_df = temp_df.pivot(index=\"train_dataset\", columns=\"test_dataset\", values=\"steering_efficiency\")\n",
    "ax = sns.heatmap(plot_df, annot=True, cmap=\"YlGnBu\")\n",
    "ax.set_title(\"Steering efficiency when transferring between different concepts\")"
   ]
  },
  {
   "cell_type": "code",
   "execution_count": null,
   "metadata": {},
   "outputs": [],
   "source": [
    "\n",
    "# Construct an NxN matrix of steering efficiency,\n",
    "# where X is train dataset, Y is test dataset, and value is steering efficiency\n",
    "import seaborn as sns\n",
    "import matplotlib.pyplot as plt\n",
    "\n",
    "temp_df = df[[\"train_dataset\", \"test_dataset\", \"layer\", \"aggregator\", \"steering_efficiency\"]].drop_duplicates()\n",
    "print(len(temp_df))\n",
    "temp_df.head()\n",
    "\n",
    "temp_df = temp_df[temp_df.aggregator == \"logistic\"]\n",
    "\n",
    "sns.set_theme(style=\"whitegrid\")\n",
    "plt.figure()\n",
    "plot_df = temp_df.pivot(index=\"train_dataset\", columns=\"test_dataset\", values=\"steering_efficiency\")\n",
    "ax = sns.heatmap(plot_df, annot=True, cmap=\"YlGnBu\")\n",
    "ax.set_title(\"Steering efficiency when transferring between different concepts\")"
   ]
  }
 ],
 "metadata": {
  "kernelspec": {
   "display_name": ".venv",
   "language": "python",
   "name": "python3"
  },
  "language_info": {
   "codemirror_mode": {
    "name": "ipython",
    "version": 3
   },
   "file_extension": ".py",
   "mimetype": "text/x-python",
   "name": "python",
   "nbconvert_exporter": "python",
   "pygments_lexer": "ipython3",
   "version": "3.10.13"
  }
 },
 "nbformat": 4,
 "nbformat_minor": 2
}
