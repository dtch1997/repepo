{
 "cells": [
  {
   "cell_type": "code",
   "execution_count": null,
   "metadata": {},
   "outputs": [],
   "source": [
    "from repepo.experiments.steering.utils.configs import (\n",
    "    list_configs\n",
    ")\n",
    "\n",
    "configs = list_configs()\n",
    "print(configs)"
   ]
  },
  {
   "cell_type": "code",
   "execution_count": null,
   "metadata": {},
   "outputs": [],
   "source": [
    "\n",
    "from repepo.experiments.steering.utils.helpers import (\n",
    "    convert_to_dataframe,\n",
    "    make_dataset\n",
    ")\n",
    "\n",
    "dfs = []\n",
    "for config in configs:\n",
    "    dataset = make_dataset(config.train_dataset_name)\n",
    "    df = convert_to_dataframe(dataset)\n",
    "    dfs.append(df)\n",
    "\n",
    "dfs[0].head()\n"
   ]
  },
  {
   "cell_type": "code",
   "execution_count": null,
   "metadata": {},
   "outputs": [],
   "source": [
    "dfs[1].head()"
   ]
  }
 ],
 "metadata": {
  "kernelspec": {
   "display_name": ".venv",
   "language": "python",
   "name": "python3"
  },
  "language_info": {
   "codemirror_mode": {
    "name": "ipython",
    "version": 3
   },
   "file_extension": ".py",
   "mimetype": "text/x-python",
   "name": "python",
   "nbconvert_exporter": "python",
   "pygments_lexer": "ipython3",
   "version": "3.10.13"
  }
 },
 "nbformat": 4,
 "nbformat_minor": 2
}
