{
 "cells": [
  {
   "cell_type": "code",
   "execution_count": null,
   "metadata": {},
   "outputs": [],
   "source": [
    "from repepo.steering.utils.helpers import load_eval_result, SteeringConfig\n",
    "\n",
    "config = SteeringConfig(\n",
    "    train_split=\"0%:40%\",\n",
    "    test_split=\"40%:50%\",\n",
    ")\n",
    "eval_result = load_eval_result(config.eval_hash)\n",
    "\n",
    "print(len(eval_result.predictions))"
   ]
  },
  {
   "cell_type": "code",
   "execution_count": null,
   "metadata": {},
   "outputs": [],
   "source": [
    "# Plot the mean, std logit diff. \n",
    "\n",
    "import numpy as np\n",
    "import matplotlib.pyplot as plt\n",
    "\n",
    "print(eval_result.metrics['mean_logit_diff'])\n",
    "print(eval_result.metrics['std_logit_diff'])"
   ]
  },
  {
   "cell_type": "code",
   "execution_count": null,
   "metadata": {},
   "outputs": [],
   "source": [
    "# Print the spearman correlation between logit diff, pos prob. \n",
    "\n",
    "from scipy.stats import spearmanr\n",
    "\n",
    "logit_diffs = [p.metrics['logit_diff'] for p in eval_result.predictions]\n",
    "pos_probs = [p.metrics['pos_prob'] for p in eval_result.predictions]\n",
    "\n",
    "print(spearmanr(logit_diffs, pos_probs))"
   ]
  },
  {
   "cell_type": "code",
   "execution_count": null,
   "metadata": {},
   "outputs": [],
   "source": [
    "from repepo.core.types import Completion\n",
    "import pandas as pd\n",
    "from IPython.display import display, HTML\n",
    "\n",
    "pd.set_option('display.max_colwidth', 0)\n",
    "\n",
    "def pretty_print(df):\n",
    "    # Set text to left-align\n",
    "    # df = df.style.set_properties(**{'text-align': 'left'})\n",
    "    html = df.to_html()\n",
    "    # Show line breaks in the dataframe\n",
    "    # Reference: https://stackoverflow.com/questions/34322448/pretty-printing-newlines-inside-a-string-in-a-pandas-dataframe\n",
    "    html = html.replace(\"\\\\n\",\"<br>\")\n",
    "    return display(HTML(html))\n",
    "\n",
    "# Construct a dataframe to visualize the above. \n",
    "\n",
    "df = pd.DataFrame([{\n",
    "    'positive_str: ': pred.positive_output_prob.text,\n",
    "    'negative_str': pred.negative_output_prob.text,\n",
    "    'logit_diff': pred.metrics['logit_diff'],\n",
    "    'pos_prob': pred.metrics['pos_prob'],\n",
    "} for pred in eval_result.predictions])\n",
    "\n",
    "pretty_print(df.head())"
   ]
  },
  {
   "cell_type": "code",
   "execution_count": null,
   "metadata": {},
   "outputs": [],
   "source": [
    "# Visualize the top-5 and bottom-5 answers by logit diff. \n",
    "\n",
    "df = df.sort_values(by='logit_diff', ascending=False)\n",
    "print(\"Top-5 by logit diff\")\n",
    "pretty_print(df.head())\n",
    "print(\"Bottom-5 by logit diff\")\n",
    "pretty_print(df.tail())"
   ]
  }
 ],
 "metadata": {
  "kernelspec": {
   "display_name": ".venv",
   "language": "python",
   "name": "python3"
  },
  "language_info": {
   "codemirror_mode": {
    "name": "ipython",
    "version": 3
   },
   "file_extension": ".py",
   "mimetype": "text/x-python",
   "name": "python",
   "nbconvert_exporter": "python",
   "pygments_lexer": "ipython3",
   "version": "3.10.13"
  }
 },
 "nbformat": 4,
 "nbformat_minor": 2
}
