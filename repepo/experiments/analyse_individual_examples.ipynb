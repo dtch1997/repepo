{
 "cells": [
  {
   "cell_type": "code",
   "execution_count": null,
   "metadata": {},
   "outputs": [],
   "source": [
    "%env WORK_DIR = /home/daniel/ml_workspace/repepo/experiments"
   ]
  },
  {
   "cell_type": "markdown",
   "metadata": {},
   "source": [
    "We're interested in:\n",
    "- The steerability of individual examples\n",
    "- The steering vectors extracted from individual examples"
   ]
  },
  {
   "cell_type": "code",
   "execution_count": null,
   "metadata": {},
   "outputs": [],
   "source": [
    "from repepo.steering.run_experiment import run_experiment"
   ]
  },
  {
   "cell_type": "code",
   "execution_count": null,
   "metadata": {},
   "outputs": [],
   "source": [
    "import itertools\n",
    "from repepo.steering.utils.helpers import SteeringConfig, EmptyTorchCUDACache\n",
    "\n",
    "splits = [f\"{i}:+1\" for i in range(3)]\n",
    "dataset = \"power-seeking-inclination\"\n",
    "layer = 13\n",
    "multipliers = [-1, 0, 1]\n",
    "\n",
    "def iter_config():\n",
    "    for train_split, test_split, multiplier in itertools.product(splits, splits, multipliers):\n",
    "        yield SteeringConfig(\n",
    "            train_dataset=dataset,\n",
    "            train_split=train_split,\n",
    "            formatter=\"llama-chat-formatter\",\n",
    "            layer=layer,\n",
    "            multiplier=multiplier,\n",
    "            test_dataset=dataset,\n",
    "            test_split=test_split,\n",
    "            test_completion_template=\"{prompt} My answer is: {response}\",\n",
    "            patch_generation_tokens_only=True,\n",
    "            skip_first_n_generation_tokens=1,\n",
    "        )"
   ]
  },
  {
   "cell_type": "code",
   "execution_count": null,
   "metadata": {},
   "outputs": [],
   "source": [
    "RUN = False \n",
    "\n",
    "if RUN:\n",
    "    results = []\n",
    "    for config in iter_config():\n",
    "        with EmptyTorchCUDACache():\n",
    "            result = run_experiment(config, force_rerun=True, logging_level=\"INFO\")\n",
    "            results.append((config, result))\n",
    "\n",
    "else:\n",
    "    from repepo.steering.utils.helpers import load_eval_result\n",
    "    results = []\n",
    "    for config in iter_config():\n",
    "        result = load_eval_result(config.eval_hash)\n",
    "        results.append((config, result))"
   ]
  },
  {
   "cell_type": "markdown",
   "metadata": {},
   "source": [
    "Questions to answer: \n",
    "- What's the steerability of individual examples? \n",
    "- What's the steering efficiency of SVs extracted from individual examples?"
   ]
  },
  {
   "cell_type": "code",
   "execution_count": null,
   "metadata": {},
   "outputs": [],
   "source": [
    "# Aggregate the data into a dataframe\n",
    "\n",
    "import pandas as pd\n",
    "rows = []\n",
    "for config, result in results:\n",
    "    row = {\n",
    "        \"test_positive_example\": result.predictions[0].positive_output_prob.text,\n",
    "        \"test_negative_example\": result.predictions[0].negative_output_prob.text,\n",
    "        \"train_split\": config.train_split,\n",
    "        \"test_split\": config.test_split,\n",
    "        \"layer\": config.layer,\n",
    "        \"multiplier\": config.multiplier,\n",
    "        \"mean_logit_diff\": result.metrics['mean_logit_diff'],\n",
    "    }\n",
    "    rows.append(row)\n",
    "\n",
    "df = pd.DataFrame(rows)\n",
    "print(len(df))\n",
    "df.head()"
   ]
  },
  {
   "cell_type": "code",
   "execution_count": null,
   "metadata": {},
   "outputs": [],
   "source": [
    "# We investigate how well a single steering vector works across different test splits\n",
    "data_df = df.copy()\n",
    "data_df = data_df[data_df.train_split == \"0:+1\"]\n",
    "\n",
    "# Plot the mean logit diff against multiplier, with hue by test split\n",
    "# Plot them all on the same graph, with label\n",
    "import seaborn as sns\n",
    "import matplotlib.pyplot as plt\n",
    "sns.set_theme(style=\"whitegrid\")\n",
    "plt.figure()\n",
    "ax = sns.lineplot(data=data_df, x=\"multiplier\", y=\"mean_logit_diff\", hue=\"test_split\")\n",
    "ax.set_title(\"Steering different test examples with a single steering vector\")\n"
   ]
  },
  {
   "cell_type": "code",
   "execution_count": null,
   "metadata": {},
   "outputs": [],
   "source": [
    "data_df = df.copy()\n",
    "data_df = data_df[data_df.test_split == \"0:+1\"]\n",
    "\n",
    "# Plot the mean logit diff against multiplier, with hue by test split\n",
    "# Plot them all on the same graph, with label\n",
    "import seaborn as sns\n",
    "import matplotlib.pyplot as plt\n",
    "sns.set_theme(style=\"whitegrid\")\n",
    "plt.figure()\n",
    "\n",
    "ax = sns.lineplot(data=data_df, x=\"multiplier\", y=\"mean_logit_diff\", hue=\"train_split\")\n",
    "ax.set_title(\"Effect of train split on steering the same test split\")"
   ]
  },
  {
   "cell_type": "code",
   "execution_count": null,
   "metadata": {},
   "outputs": [],
   "source": [
    "# Crudely estimate steering efficiency as (mean logit diff at 1) - (mean logit diff at -1)\n",
    "data_df = df.copy()\n",
    "group_df = data_df.groupby([\"train_split\", \"test_split\", \"layer\"])\n",
    "\n",
    "def compute_signed_difference(row):\n",
    "    logit_diff_at_plus_1 = row[row.multiplier == 1][\"mean_logit_diff\"].item()\n",
    "    logit_diff_at_minus_1 = row[row.multiplier == -1][\"mean_logit_diff\"].item()\n",
    "    return pd.Series({'steering_efficiency': logit_diff_at_plus_1 - logit_diff_at_minus_1})\n",
    "\n",
    "data_df = group_df.apply(compute_signed_difference)\n",
    "# Merge back in the positive example and negative example\n",
    "data_df = data_df.reset_index()\n",
    "metadata_df = df[[\"train_split\", \"test_split\", \"layer\", \"test_positive_example\", \"test_negative_example\"]].drop_duplicates()\n",
    "data_df = data_df.merge(metadata_df, on=[\"train_split\", \"test_split\", \"layer\"])\n",
    "\n",
    "print(len(data_df))\n",
    "data_df.head()"
   ]
  },
  {
   "cell_type": "code",
   "execution_count": null,
   "metadata": {},
   "outputs": [],
   "source": [
    "\n",
    "# Construct a 3x3 matrix of steering efficiency,\n",
    "# where X is train split, Y is test split, and value is steering efficiency\n",
    "import seaborn as sns\n",
    "import matplotlib.pyplot as plt\n",
    "sns.set_theme(style=\"whitegrid\")\n",
    "plt.figure()\n",
    "plot_df = data_df.pivot(index=\"train_split\", columns=\"test_split\", values=\"steering_efficiency\")\n",
    "ax = sns.heatmap(plot_df, annot=True, cmap=\"YlGnBu\")"
   ]
  },
  {
   "cell_type": "code",
   "execution_count": null,
   "metadata": {},
   "outputs": [],
   "source": [
    "###\n",
    "pd.set_option('display.max_colwidth', None)\n",
    "data_df[['test_split', 'test_positive_example', 'test_negative_example']].drop_duplicates()"
   ]
  }
 ],
 "metadata": {
  "kernelspec": {
   "display_name": ".venv",
   "language": "python",
   "name": "python3"
  },
  "language_info": {
   "codemirror_mode": {
    "name": "ipython",
    "version": 3
   },
   "file_extension": ".py",
   "mimetype": "text/x-python",
   "name": "python",
   "nbconvert_exporter": "python",
   "pygments_lexer": "ipython3",
   "version": "3.10.13"
  }
 },
 "nbformat": 4,
 "nbformat_minor": 2
}
