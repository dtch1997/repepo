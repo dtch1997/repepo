{
 "cells": [
  {
   "cell_type": "markdown",
   "metadata": {},
   "source": [
    "# Evaluate base propensity\n",
    "\n",
    "Evaluate the base propensity of the model to give the positive or negative response, respectively"
   ]
  },
  {
   "cell_type": "code",
   "execution_count": null,
   "metadata": {},
   "outputs": [],
   "source": [
    "%env WORK_DIR = /home/daniel/ml_workspace/repepo/experiments"
   ]
  },
  {
   "cell_type": "code",
   "execution_count": null,
   "metadata": {},
   "outputs": [],
   "source": [
    "from repepo.steering.sweeps.evaluate_base_propensity import iter_configs\n",
    "from repepo.steering.run_sweep import run_sweep, load_sweep_results\n",
    "\n",
    "RUN = False\n",
    "configs = list(iter_configs())\n",
    "\n",
    "if RUN:\n",
    "    run_sweep(configs)\n",
    "\n",
    "results = load_sweep_results(configs)\n"
   ]
  },
  {
   "cell_type": "code",
   "execution_count": null,
   "metadata": {},
   "outputs": [],
   "source": [
    "from repepo.steering.plots.utils import make_results_df, get_config_fields\n",
    "\n",
    "df = make_results_df(results)\n",
    "print(len(df))\n",
    "df.head()"
   ]
  },
  {
   "cell_type": "markdown",
   "metadata": {},
   "source": [
    "We plot the base propensity for several datasets spanning 'persona', 'xrisk', and sycophancy. The black lines indicate error bars. "
   ]
  },
  {
   "cell_type": "code",
   "execution_count": null,
   "metadata": {},
   "outputs": [],
   "source": [
    "# Plot the mean pos prob\n",
    "import seaborn as sns\n",
    "import matplotlib.pyplot as plt\n",
    "\n",
    "fig, ax = plt.subplots()\n",
    "ax.errorbar(df.mean_pos_prob, df.train_dataset, xerr=df.std_pos_prob, fmt='o', color = 'blue')\n",
    "ax.axvline(x=0.5, color='black', linestyle='--')\n",
    "ax.set_title(\"Base propensity (pos prob)\")\n",
    "plt.show()\n"
   ]
  },
  {
   "cell_type": "code",
   "execution_count": null,
   "metadata": {},
   "outputs": [],
   "source": [
    "# Plot the mean pos prob\n",
    "import seaborn as sns\n",
    "import matplotlib.pyplot as plt\n",
    "\n",
    "fig, ax = plt.subplots()\n",
    "ax.errorbar(df.mean_logit_diff, df.train_dataset, xerr=df.std_logit_diff, fmt='o', color = 'blue')\n",
    "ax.axvline(x=0.5, color='black', linestyle='--')\n",
    "ax.set_title(\"Base propensity (logit diff)\")\n",
    "plt.show()\n"
   ]
  }
 ],
 "metadata": {
  "kernelspec": {
   "display_name": ".venv",
   "language": "python",
   "name": "python3"
  },
  "language_info": {
   "codemirror_mode": {
    "name": "ipython",
    "version": 3
   },
   "file_extension": ".py",
   "mimetype": "text/x-python",
   "name": "python",
   "nbconvert_exporter": "python",
   "pygments_lexer": "ipython3",
   "version": "3.10.13"
  }
 },
 "nbformat": 4,
 "nbformat_minor": 2
}
