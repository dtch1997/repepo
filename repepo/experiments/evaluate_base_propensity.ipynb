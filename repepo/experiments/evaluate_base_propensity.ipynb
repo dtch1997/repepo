{
 "cells": [
  {
   "cell_type": "markdown",
   "metadata": {},
   "source": [
    "# Evaluate base propensity\n",
    "\n",
    "Evaluate the base propensity of the model to give the positive or negative response, respectively"
   ]
  },
  {
   "cell_type": "code",
   "execution_count": null,
   "metadata": {},
   "outputs": [],
   "source": [
    "%env WORK_DIR = /home/daniel/ml_workspace/repepo/experiments"
   ]
  },
  {
   "cell_type": "code",
   "execution_count": null,
   "metadata": {},
   "outputs": [],
   "source": [
    "from repepo.steering.sweeps.evaluate_base_propensity import iter_configs\n",
    "from repepo.steering.utils.helpers import load_eval_result\n",
    "\n",
    "configs_and_results = []\n",
    "for config in iter_configs():\n",
    "    eval_result = load_eval_result(config.eval_hash)\n",
    "    configs_and_results.append((config, eval_result))\n"
   ]
  },
  {
   "cell_type": "code",
   "execution_count": null,
   "metadata": {},
   "outputs": [],
   "source": [
    "#for config, result in configs_and_results:\n",
    "#    print(f\"{config.train_dataset}: \\t logit_diff = {result.metrics['mean_logit_diff']:.2f} +/- {result.metrics['std_logit_diff']:.2f}\")\n",
    "\n",
    "# Construct a dataframe\n",
    "import pandas as pd\n",
    "df = pd.DataFrame([{\n",
    "    'train_dataset': config.train_dataset,\n",
    "    'mean_logit_diff': result.metrics['mean_logit_diff'],\n",
    "    'std_logit_diff': result.metrics['std_logit_diff'],\n",
    "    'mean_pos_prob': result.metrics['mean_pos_prob'],\n",
    "    'std_pos_prob': result.metrics['std_pos_prob'],\n",
    "} for config, result in configs_and_results])\n",
    "\n",
    "df.head()"
   ]
  },
  {
   "cell_type": "markdown",
   "metadata": {},
   "source": [
    "We plot the base propensity for several datasets spanning 'persona', 'xrisk', and sycophancy. The black lines indicate error bars. "
   ]
  },
  {
   "cell_type": "code",
   "execution_count": null,
   "metadata": {},
   "outputs": [],
   "source": [
    "# Bar plot of the logit_diff\n",
    "import matplotlib.pyplot as plt\n",
    "import seaborn as sns\n",
    "sns.set_theme(style=\"whitegrid\")\n",
    "# ax = sns.barplot(y=\"train_dataset\", x=\"logit_diff\", data=df)\n",
    "# TODO: Can I color-code the xticks? \n",
    "fig, ax = plt.subplots()\n",
    "ax.errorbar(df.mean_logit_diff, df.train_dataset, xerr=df.std_logit_diff, fmt='o', color = 'blue')\n",
    "ax.axvline(x=0, color='black', linestyle='--')\n",
    "ax.set_title(\"Base propensity (logit diff)\")\n",
    "plt.show()"
   ]
  },
  {
   "cell_type": "code",
   "execution_count": null,
   "metadata": {},
   "outputs": [],
   "source": [
    "# Bar plot of the logit_diff\n",
    "import matplotlib.pyplot as plt\n",
    "import seaborn as sns\n",
    "sns.set_theme(style=\"whitegrid\")\n",
    "# ax = sns.barplot(y=\"train_dataset\", x=\"logit_diff\", data=df)\n",
    "# TODO: Can I color-code the xticks? \n",
    "fig, ax = plt.subplots()\n",
    "ax.errorbar(df.mean_pos_prob, df.train_dataset, xerr=df.std_pos_prob, fmt='o', color = 'green')\n",
    "ax.axvline(x=0.5, color='black', linestyle='--')\n",
    "ax.set_title(\"Base propensity (pos prob)\")\n",
    "plt.show()\n",
    "\n"
   ]
  }
 ],
 "metadata": {
  "kernelspec": {
   "display_name": ".venv",
   "language": "python",
   "name": "python3"
  },
  "language_info": {
   "codemirror_mode": {
    "name": "ipython",
    "version": 3
   },
   "file_extension": ".py",
   "mimetype": "text/x-python",
   "name": "python",
   "nbconvert_exporter": "python",
   "pygments_lexer": "ipython3",
   "version": "3.10.13"
  }
 },
 "nbformat": 4,
 "nbformat_minor": 2
}
