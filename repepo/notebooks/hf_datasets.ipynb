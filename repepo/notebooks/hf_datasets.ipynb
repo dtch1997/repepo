{
 "cells": [
  {
   "cell_type": "code",
   "execution_count": 1,
   "metadata": {},
   "outputs": [
    {
     "name": "stdout",
     "output_type": "stream",
     "text": [
      "Dataset({\n",
      "    features: ['text', 'label'],\n",
      "    num_rows: 3\n",
      "})\n"
     ]
    }
   ],
   "source": [
    "from datasets import Dataset\n",
    "\n",
    "data = {\"text\": [\"Sample text 1\", \"Sample text 2\", \"Sample text 3\"], \"label\": [0, 1, 0]}\n",
    "\n",
    "dataset = Dataset.from_dict(data)\n",
    "\n",
    "print(dataset)"
   ]
  },
  {
   "cell_type": "code",
   "execution_count": null,
   "metadata": {},
   "outputs": [],
   "source": [
    "# Brief outline of process:\n",
    "# - From the raw data, construct Huggingface dataset \n",
    "#     - positive response\n",
    "#     - negative response\n",
    "# - Preprocess this into chat template\n",
    "#     - add_generation_prompt = True\n",
    "# - Preprocess that into a single string\n",
    "#     - add the ' (' to prompt-engineer \n",
    "# \n",
    "# META: do we need to do this? hmm.... "
   ]
  }
 ],
 "metadata": {
  "kernelspec": {
   "display_name": ".venv",
   "language": "python",
   "name": "python3"
  },
  "language_info": {
   "codemirror_mode": {
    "name": "ipython",
    "version": 3
   },
   "file_extension": ".py",
   "mimetype": "text/x-python",
   "name": "python",
   "nbconvert_exporter": "python",
   "pygments_lexer": "ipython3",
   "version": "3.10.13"
  }
 },
 "nbformat": 4,
 "nbformat_minor": 2
}
