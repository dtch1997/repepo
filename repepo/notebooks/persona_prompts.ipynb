{
 "cells": [
  {
   "cell_type": "code",
   "execution_count": null,
   "metadata": {},
   "outputs": [],
   "source": [
    "from repepo.experiments.persona_prompts import PERSONA_PROMPTS\n",
    "from repepo.steering.utils.helpers import make_dataset\n",
    "\n",
    "n_datasets = 0\n",
    "n_exist = 0\n",
    "for name, (pos_persona, neg_persona) in PERSONA_PROMPTS.items():\n",
    "    n_datasets += 1\n",
    "    try: \n",
    "        dataset = make_dataset(name)\n",
    "        print(f\"Dataset {name} exists\")\n",
    "        n_exist += 1\n",
    "    except:\n",
    "        print(f\"Dataset {name} does not exist\")\n",
    "\n",
    "print(f\"Found {n_exist} out of {n_datasets} datasets\")"
   ]
  }
 ],
 "metadata": {
  "kernelspec": {
   "display_name": ".venv",
   "language": "python",
   "name": "python3"
  },
  "language_info": {
   "codemirror_mode": {
    "name": "ipython",
    "version": 3
   },
   "file_extension": ".py",
   "mimetype": "text/x-python",
   "name": "python",
   "nbconvert_exporter": "python",
   "pygments_lexer": "ipython3",
   "version": "3.10.13"
  }
 },
 "nbformat": 4,
 "nbformat_minor": 2
}
