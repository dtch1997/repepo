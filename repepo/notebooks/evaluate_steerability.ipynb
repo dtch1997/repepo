{
 "cells": [
  {
   "cell_type": "markdown",
   "metadata": {},
   "source": [
    "# Evaluating Steerability of Different Concepts\n",
    "\n",
    "In this notebook, we will evaluate steerability across several concepts of interest. We consider two types of concepts: \n",
    "(i) Abstract concepts, e.g. 'truthfulness', 'power-seeking-inclination' \n",
    "(ii) Linguistic concepts, e.g. 'verb->verb-able', 'adjective->adjective-ly' "
   ]
  },
  {
   "cell_type": "code",
   "execution_count": null,
   "metadata": {},
   "outputs": [],
   "source": [
    "from repepo.steering.sweeps.constants import (\n",
    "    ALL_ABSTRACT_CONCEPT_DATASETS,\n",
    "    ALL_TOKEN_CONCEPT_DATASETS, \n",
    "    ALL_LANGUAGES,\n",
    "    ALL_LLAMA_7B_LAYERS,\n",
    "    ALL_MULTIPLIERS\n",
    ")\n",
    "\n",
    "from repepo.steering.sweeps.configs import (\n",
    "    get_abstract_concept_config,\n",
    "    get_token_concept_config\n",
    ")\n",
    "\n",
    "from repepo.steering.run_sweep import (\n",
    "    run_sweep, \n",
    "    load_sweep_results\n",
    ")\n",
    "\n",
    "from repepo.steering.plots.utils import (\n",
    "    get_config_fields,\n",
    "    make_results_df\n",
    ")"
   ]
  },
  {
   "cell_type": "code",
   "execution_count": null,
   "metadata": {},
   "outputs": [],
   "source": [
    "# Define the sweep to run over. \n",
    "\n",
    "from itertools import product\n",
    "\n",
    "abstract_setting = {\n",
    "    # \"datasets\": ALL_ABSTRACT_CONCEPT_DATASETS,\n",
    "    \"datasets\": [\n",
    "        \"anti-immigration\",\n",
    "        \"conscientiousness\",\n",
    "        \"self-replication\",\n",
    "        \"corrigible-neutral-HHH\",\n",
    "        \"myopic-reward\",\n",
    "        \"power-seeking-inclination\",\n",
    "        \"sycophancy_train\",\n",
    "        \"truthfulqa\",\n",
    "    ],\n",
    "    \"layers\": [13],\n",
    "    \"multipliers\": [-1.0, 0.0, 1.0]\n",
    "}\n",
    "\n",
    "linguistic_setting = {\n",
    "    \"datasets\": [\n",
    "        \"D03 [adj+ly_reg]\",\n",
    "        \"D07 [verb+able_reg]\",\n",
    "        \"I06 [verb_inf - Ving]\",\n",
    "    ],\n",
    "    \"layers\": [13],\n",
    "    \"multipliers\": [-1.0, 0.0, 1.0]\n",
    "}\n",
    "\n",
    "def iter_config():\n",
    "    for dataset, layer, multiplier in product(\n",
    "        abstract_setting[\"datasets\"], \n",
    "        abstract_setting[\"layers\"], \n",
    "        abstract_setting[\"multipliers\"]\n",
    "    ):\n",
    "        yield get_abstract_concept_config(\n",
    "            dataset=dataset,\n",
    "            layer=layer,\n",
    "            multiplier=multiplier\n",
    "        )\n",
    "\n",
    "    for dataset, layer, multiplier in product(\n",
    "        linguistic_setting[\"datasets\"], \n",
    "        linguistic_setting[\"layers\"], \n",
    "        linguistic_setting[\"multipliers\"]\n",
    "    ):\n",
    "        yield get_token_concept_config(\n",
    "            dataset=dataset,\n",
    "            layer=layer,\n",
    "            multiplier=multiplier\n",
    "        )\n"
   ]
  },
  {
   "cell_type": "code",
   "execution_count": null,
   "metadata": {},
   "outputs": [],
   "source": [
    "# Optionally, run the sweep and load results. \n",
    "# If sweep was already run, set RUN = False.\n",
    "RUN = False\n",
    "\n",
    "configs = list(iter_config())\n",
    "if RUN:\n",
    "    run_sweep(configs)\n",
    "\n",
    "results = load_sweep_results(configs)"
   ]
  },
  {
   "cell_type": "code",
   "execution_count": null,
   "metadata": {},
   "outputs": [],
   "source": [
    "# Construct a DataFrame from the results.\n",
    "df = make_results_df(results)\n",
    "print(len(df))\n",
    "df.head()"
   ]
  },
  {
   "cell_type": "code",
   "execution_count": null,
   "metadata": {},
   "outputs": [],
   "source": [
    "# Plot the change in positive prob and negative prob for one example. \n",
    "\n",
    "import seaborn as sns \n",
    "import matplotlib.pyplot as plt\n",
    "\n",
    "def plot(df):\n",
    "    example = df.iloc[0]\n",
    "    df = df[df[\"test_positive_example.text\"] == example[\"test_positive_example.text\"]]\n",
    "    \n",
    "    fig, ax = plt.subplots(1, 1, figsize=(10, 5))\n",
    "    # Plot positive token logit, negative token logit.\n",
    "    sns.lineplot(data=df, x=\"multiplier\", y=\"test_positive_token.logprob\", label=\"Positive logprob\", ax=ax)\n",
    "    sns.lineplot(data=df, x=\"multiplier\", y=\"test_negative_token.logprob\", label=\"Negative logprob\", ax=ax)\n",
    "\n",
    "plot(df)"
   ]
  },
  {
   "cell_type": "code",
   "execution_count": null,
   "metadata": {},
   "outputs": [],
   "source": [
    "# Plot the change in positive token logit and negative token logit for one example. \n",
    "\n",
    "import seaborn as sns \n",
    "import matplotlib.pyplot as plt\n",
    "\n",
    "def plot(df):\n",
    "    example = df.iloc[0]\n",
    "    df = df[df[\"test_positive_example.text\"] == example[\"test_positive_example.text\"]]\n",
    "    \n",
    "    fig, ax = plt.subplots(1, 1, figsize=(10, 5))\n",
    "    # Plot positive token logit, negative token logit.\n",
    "    sns.lineplot(data=df, x=\"multiplier\", y=\"test_positive_token.logit\", label=\"Positive logit\", ax=ax)\n",
    "    sns.lineplot(data=df, x=\"multiplier\", y=\"test_negative_token.logit\", label=\"Negative logit\", ax=ax)\n",
    "    # Also plot the logit_mean\n",
    "    # sns.lineplot(data=df, x=\"multiplier\", y=\"test_positive_token.logit_mean\", label=\"Logit mean\", ax=ax)\n",
    "    # sns.lineplot(data=df, x=\"multiplier\", y=\"test_negative_token.logit_mean\", label=\"Logit mean\", ax=ax)\n",
    "\n",
    "plot(df)"
   ]
  }
 ],
 "metadata": {
  "kernelspec": {
   "display_name": ".venv",
   "language": "python",
   "name": "python3"
  },
  "language_info": {
   "codemirror_mode": {
    "name": "ipython",
    "version": 3
   },
   "file_extension": ".py",
   "mimetype": "text/x-python",
   "name": "python",
   "nbconvert_exporter": "python",
   "pygments_lexer": "ipython3",
   "version": "3.10.13"
  }
 },
 "nbformat": 4,
 "nbformat_minor": 2
}
