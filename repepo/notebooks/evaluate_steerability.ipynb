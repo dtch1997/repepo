{
 "cells": [
  {
   "cell_type": "markdown",
   "metadata": {},
   "source": [
    "# Evaluating Steerability of Different Concepts\n",
    "\n",
    "In this notebook, we will evaluate steerability across several concepts of interest. We consider two types of concepts: \n",
    "(i) Abstract concepts, e.g. 'truthfulness', 'power-seeking-inclination' \n",
    "(ii) Linguistic concepts, e.g. 'verb->verb-able', 'adjective->adjective-ly' "
   ]
  },
  {
   "cell_type": "code",
   "execution_count": null,
   "metadata": {},
   "outputs": [],
   "source": [
    "from repepo.steering.sweeps.configs import (\n",
    "    get_abstract_concept_config,\n",
    "    get_token_concept_config\n",
    ")\n",
    "\n",
    "from repepo.steering.run_sweep import (\n",
    "    run_sweep, \n",
    "    load_sweep_results\n",
    ")\n",
    "\n",
    "from repepo.steering.plots.utils import (\n",
    "    get_config_fields,\n",
    "    make_results_df\n",
    ")"
   ]
  },
  {
   "cell_type": "code",
   "execution_count": null,
   "metadata": {},
   "outputs": [],
   "source": [
    "# Define the sweep to run over. \n",
    "from repepo.notebooks.run_sweep_evaluate_steerability import iter_config"
   ]
  },
  {
   "cell_type": "code",
   "execution_count": null,
   "metadata": {},
   "outputs": [],
   "source": [
    "# Optionally, run the sweep and load results. \n",
    "# If sweep was already run, set RUN = False.\n",
    "RUN = False\n",
    "\n",
    "configs = list(iter_config())\n",
    "if RUN:\n",
    "    run_sweep(configs)\n",
    "\n",
    "results = load_sweep_results(configs)"
   ]
  },
  {
   "cell_type": "code",
   "execution_count": null,
   "metadata": {},
   "outputs": [],
   "source": [
    "# Construct a DataFrame from the results.\n",
    "df = make_results_df(results)\n",
    "print(len(df))\n",
    "df.head()"
   ]
  },
  {
   "cell_type": "markdown",
   "metadata": {},
   "source": [
    "# 1. Analysis"
   ]
  },
  {
   "cell_type": "markdown",
   "metadata": {},
   "source": [
    "## 1.1 Plot changes in log probs, logits"
   ]
  },
  {
   "cell_type": "code",
   "execution_count": null,
   "metadata": {},
   "outputs": [],
   "source": [
    "# Plot the change in positive prob and negative prob for one example. \n",
    "\n",
    "import seaborn as sns \n",
    "import matplotlib.pyplot as plt\n",
    "sns.set_theme()\n",
    "\n",
    "def plot(df):\n",
    "    example = df.iloc[0]\n",
    "    df = df[df[\"test_positive_example.text\"] == example[\"test_positive_example.text\"]]\n",
    "    \n",
    "    fig, ax = plt.subplots(1, 1, figsize=(10, 5))\n",
    "    # Plot positive token logit, negative token logit.\n",
    "    sns.lineplot(data=df, x=\"multiplier\", y=\"test_positive_token.logprob\", label=\"Positive logprob\", ax=ax)\n",
    "    sns.lineplot(data=df, x=\"multiplier\", y=\"test_negative_token.logprob\", label=\"Negative logprob\", ax=ax)\n",
    "\n",
    "plot(df)"
   ]
  },
  {
   "cell_type": "code",
   "execution_count": null,
   "metadata": {},
   "outputs": [],
   "source": [
    "# Plot the change in positive token logit and negative token logit for one example. \n",
    "\n",
    "import seaborn as sns \n",
    "import matplotlib.pyplot as plt\n",
    "\n",
    "def plot(df):\n",
    "    example = df.iloc[0]\n",
    "    df = df[df[\"test_positive_example.text\"] == example[\"test_positive_example.text\"]]\n",
    "    \n",
    "    fig, ax = plt.subplots(1, 1, figsize=(10, 5))\n",
    "    # Plot positive token logit, negative token logit.\n",
    "    sns.lineplot(data=df, x=\"multiplier\", y=\"test_positive_token.logit\", label=\"Positive logit\", ax=ax)\n",
    "    sns.lineplot(data=df, x=\"multiplier\", y=\"test_negative_token.logit\", label=\"Negative logit\", ax=ax)\n",
    "    # Also plot the logit_mean\n",
    "    # sns.lineplot(data=df, x=\"multiplier\", y=\"test_positive_token.logit_mean\", label=\"Logit mean\", ax=ax)\n",
    "    # sns.lineplot(data=df, x=\"multiplier\", y=\"test_negative_token.logit_mean\", label=\"Logit mean\", ax=ax)\n",
    "\n",
    "plot(df)"
   ]
  },
  {
   "cell_type": "markdown",
   "metadata": {},
   "source": [
    "## 1.2 Compute steerability"
   ]
  },
  {
   "cell_type": "code",
   "execution_count": null,
   "metadata": {},
   "outputs": [],
   "source": [
    "import pandas as pd\n",
    "import numpy as np\n",
    "\n",
    "def calculate_steering_efficiency(\n",
    "    df: pd.DataFrame, \n",
    "    base_metric_name: str = \"logit_diff\"\n",
    "):\n",
    "    df = df.copy()\n",
    "    # Group by examples\n",
    "    fields_to_group_by = get_config_fields()\n",
    "    fields_to_group_by.remove(\"multiplier\")\n",
    "    fields_to_group_by += [\"test_positive_example.text\"]\n",
    "\n",
    "    grouped = df.groupby(fields_to_group_by)\n",
    "\n",
    "    def fit_linear_regression(df: pd.DataFrame):\n",
    "        # Fit a linear regression of the base metric on the multiplier\n",
    "        # Return the slope and error of the fit \n",
    "        x = df[\"multiplier\"].to_numpy()\n",
    "        y = df[base_metric_name].to_numpy()        \n",
    "        (slope, intercept), residuals, _, _, _ = np.polyfit(x, y, 1, full=True)\n",
    "        # Return a dataframe with the slope and residuals\n",
    "        return pd.DataFrame({\n",
    "            \"slope\": [slope],\n",
    "            \"residual\": [residuals.item()]\n",
    "        })\n",
    "\n",
    "    # Apply a linear-fit to each group using grouped.apply\n",
    "    slopes = grouped.apply(fit_linear_regression, include_groups = False)\n",
    "    df = df.merge(slopes, on=fields_to_group_by, how='left')\n",
    "    return df \n",
    "\n",
    "df = calculate_steering_efficiency(df)\n",
    "print(len(df))\n",
    "\n",
    "# Scatter plot of the slopes and residuals\n",
    "fig, ax = plt.subplots(figsize=(8, 8))\n",
    "sns.scatterplot(data=df, x=\"slope\", y=\"residual\", ax=ax)"
   ]
  },
  {
   "cell_type": "code",
   "execution_count": null,
   "metadata": {},
   "outputs": [],
   "source": [
    "# Scatter plot of steerability, grouped by concept \n",
    "\n",
    "def plot_steering_efficiency(df):\n",
    "    df = df.copy()\n",
    "    # Sort the rows by the mean slope within train_dataset\n",
    "    order = df.groupby(\"train_dataset\")[\"slope\"].median().sort_values().iloc[::-1].index\n",
    "    \n",
    "    fig, ax = plt.subplots(figsize=(8, 8))    \n",
    "    sns.violinplot(data=df, x = \"slope\", y = \"train_dataset\", order=order)\n",
    "    return ax\n",
    "\n",
    "plot_steering_efficiency(df)"
   ]
  },
  {
   "cell_type": "markdown",
   "metadata": {},
   "source": [
    "Remarks\n",
    "- The spread of individual steerabilities is an indicator of how \"well-defined\" a concept is. \n",
    "- I'm concerned that the steerability of `sycophancy` is 0, which does not correlate well with what was observed in CAA...  "
   ]
  }
 ],
 "metadata": {
  "kernelspec": {
   "display_name": ".venv",
   "language": "python",
   "name": "python3"
  },
  "language_info": {
   "codemirror_mode": {
    "name": "ipython",
    "version": 3
   },
   "file_extension": ".py",
   "mimetype": "text/x-python",
   "name": "python",
   "nbconvert_exporter": "python",
   "pygments_lexer": "ipython3",
   "version": "3.10.13"
  }
 },
 "nbformat": 4,
 "nbformat_minor": 2
}
