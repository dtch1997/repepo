{
 "cells": [
  {
   "cell_type": "code",
   "execution_count": null,
   "metadata": {},
   "outputs": [],
   "source": [
    "from jaxtyping import Float\n",
    "import numpy as np\n",
    "\n",
    "from scipy.stats import spearmanr\n",
    "\n",
    "def steerability_slope(\n",
    "    multipliers: Float[np.ndarray, \"n_multipliers\"],\n",
    "    propensities: Float[np.ndarray, \"batch n_multipliers\"],\n",
    ") -> Float[np.ndarray, \"batch\"]:\n",
    "    \n",
    "    # NOTE: Assumes multipliers are the same for all datasets\n",
    "    slope, _ = np.polyfit(multipliers, propensities.T, 1)\n",
    "    return slope\n",
    "\n",
    "def steerabilty_spearman(\n",
    "    multipliers: Float[np.ndarray, \"n_multipliers\"],\n",
    "    propensities: Float[np.ndarray, \"batch n_multipliers\"],\n",
    ") -> Float[np.ndarray, \"batch\"]:\n",
    "    \"\"\" Compute the Spearman correlation between multipliers and propensities \"\"\"\n",
    "    # batch_size = propensities.shape[0]\n",
    "    # multipliers = multipliers[np.newaxis, :].repeat(batch_size, axis=0)\n",
    "    result = spearmanr(multipliers, propensities, axis=1)\n",
    "    return result.statistic[0, 1:]"
   ]
  },
  {
   "cell_type": "code",
   "execution_count": null,
   "metadata": {},
   "outputs": [],
   "source": [
    "multipliers = np.arange(100)\n",
    "propensities = np.random.rand(10, 100)\n",
    "\n",
    "print(steerability_slope(multipliers, propensities))\n",
    "print(steerabilty_spearman(multipliers, propensities))"
   ]
  },
  {
   "cell_type": "code",
   "execution_count": null,
   "metadata": {},
   "outputs": [],
   "source": [
    "multipliers = np.arange(100)\n",
    "propensities = np.arange(100)[np.newaxis, :].repeat(10, axis=0) / 100\n",
    "\n",
    "print(steerability_slope(multipliers, propensities))\n",
    "print(steerabilty_spearman(multipliers, propensities))"
   ]
  }
 ],
 "metadata": {
  "kernelspec": {
   "display_name": ".venv",
   "language": "python",
   "name": "python3"
  },
  "language_info": {
   "codemirror_mode": {
    "name": "ipython",
    "version": 3
   },
   "file_extension": ".py",
   "mimetype": "text/x-python",
   "name": "python",
   "nbconvert_exporter": "python",
   "pygments_lexer": "ipython3",
   "version": "3.10.12"
  }
 },
 "nbformat": 4,
 "nbformat_minor": 2
}
